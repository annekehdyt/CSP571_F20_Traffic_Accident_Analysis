{
 "cells": [
  {
   "cell_type": "code",
   "execution_count": 1,
   "metadata": {},
   "outputs": [],
   "source": [
    "import numpy as np\n",
    "import pandas as pd\n",
    "\n",
    "import seaborn as sns\n",
    "import os\n",
    "\n",
    "import matplotlib.pyplot as plt"
   ]
  },
  {
   "cell_type": "code",
   "execution_count": 5,
   "metadata": {},
   "outputs": [],
   "source": [
    "US_pop = {\n",
    "    \"AL\": 4903185,\"AK\": 731545,\n",
    "    \"AZ\": 7278717,\"AR\": 3017852,\n",
    "    \"CA\": 39512223,\"CO\": 5758736,\n",
    "    \"CT\": 3565287,\n",
    "    \"DE\": 973764,\"FL\": 21477737,\n",
    "    \"GA\": 10617423,\"HI\": 1415872,\n",
    "    \"ID\": 1787065,\"IL\": 12671821,\n",
    "    \"IN\": 6732219,\"IA\": 3155070,\n",
    "    \"KS\": 2913314,\"KY\": 4467673,\n",
    "    \"LA\": 4648794,\n",
    "    \"ME\": 1344212,\"MD\": 6045680,\n",
    "    \"MA\": 6949503,\"MI\": 9986857,\n",
    "    \"MN\": 5639632,\"MS\": 2976149,\n",
    "    \"MO\": 6137428,\"MT\": 1068778,\n",
    "    \"NE\": 1934408,\n",
    "    \"NV\": 3080156,\"NH\": 1359711,\n",
    "    \"NJ\": 8882190,\"NM\": 1096829,\n",
    "    \"NY\": 19453561,\"NC\": 10488084,\n",
    "    \"ND\": 762062,\"OH\": 11689100,\n",
    "    \"OK\": 3956971,\"OR\": 4217737,\n",
    "    \"PA\": 12801989,\"RI\": 1059361,\n",
    "    \"SC\": 5148714,\"SD\": 884659,\n",
    "    \"TN\": 6833174,\"TX\": 28995881,\n",
    "    \"UT\": 3205958,\n",
    "    \"VT\":623989,\"VA\": 8535519,\n",
    "    \"WA\": 8614893,\"WV\": 1792147,\n",
    "    \"WI\": 5822434,\n",
    "    \"WY\":578759,\"DC\":705749\n",
    "}\n",
    "\n",
    "def map_state(state):\n",
    "    \"\"\" Map state into region \"\"\"\n",
    "    US_region = {\n",
    "        \"northeast\": [\"CT\", \"ME\", \"MA\", \"NH\", \"RI\", \"VT\", \"NJ\", \"NY\", \"PA\"],\n",
    "        \"midwest\": [\"IL\", \"IN\", \"MI\", \"TN\", \"IA\", \"KS\", \"MN\", \"OH\", \"MO\", \"NE\", \"ND\", \"SD\", \"WI\"],\n",
    "        \"south\" : [\"DE\", \"FL\", \"GA\", \"MD\", \"NC\", \"SC\", \"VA\", \"DC\", \"WV\", \"AL\", \"KY\", \"MS\", \"TN\", \"AR\", \"LA\", \"OK\", \"TX\"],\n",
    "        \"west\" : [\"AZ\", \"CO\", \"ID\", \"MT\", \"NV\", \"NM\", \"UT\", \"WY\", \"AK\", \"CA\", \"HI\", \"OR\", \"WA\"]\n",
    "    }\n",
    "    for key, items in US_region.items():\n",
    "        if state in items:\n",
    "            return key\n",
    "\n",
    "def is_highway(street):\n",
    "    \n",
    "    \n",
    "    \"\"\" map street into highway/non-highway \"\"\"\n",
    "    states = list(US_pop.keys())\n",
    "    s = street.split(\" \")\n",
    "    \n",
    "    if \"I-\" in s[0]:\n",
    "        return True\n",
    "    if \"Freeway\" in s[-1]:\n",
    "        return True\n",
    "    if \"US-\" in s[0]:\n",
    "        return True\n",
    "    if s[-1].isnumeric():\n",
    "        return True\n",
    "    if \"Highway\" in s:\n",
    "        return True\n",
    "    if \"Freeway\" in s:\n",
    "        return True\n",
    "    if \"Hwy\" in s:\n",
    "        return True\n",
    "    if \"Fwy\" in s:\n",
    "        return True\n",
    "    if \"Expy\" in s:\n",
    "        return True\n",
    "    \n",
    "    for st in states:\n",
    "        if \"{}-\".format(st) in s[0]:\n",
    "            return True\n",
    "    return False\n",
    "\n",
    "\n",
    "def encode_weather(desc):\n",
    "    \"\"\" Encode weather_condition \"\"\"\n",
    "    if type(desc) != float:\n",
    "        if \"storm\" in desc.lower() or \"thunder\" in desc.lower() or \"smoke\" in desc.lower() or \"tornado\" in desc.lower():\n",
    "            return \"storm\"\n",
    "        elif \"clear\" in desc.lower() or \"fair\" in desc.lower():\n",
    "            return \"clear\"\n",
    "        elif \"rain\" in desc.lower() or \"drizzle\" in desc.lower():\n",
    "            return \"rain\"\n",
    "        elif \"cloud\" in desc.lower() or \"dust\" in desc.lower() or \"fog\" in desc.lower():\n",
    "            return \"cloud/dust/fog\"\n",
    "        elif \"snow\" in desc.lower() or \"ice\" in desc.lower():\n",
    "            return \"snow\"\n",
    "        elif \"wind\" in desc.lower():\n",
    "            return \"windy\"\n",
    "        else:\n",
    "            return \"other\"\n",
    "    else:\n",
    "        return \"other\"\n",
    "\n",
    "def filter_df(df):\n",
    "    \n",
    "    # eliminate inconsistent day/night\n",
    "    df = df[(df[\"Sunrise_Sunset\"].isin([\"Day\", \"Night\"])) &\n",
    "       (df[\"Civil_Twilight\"].isin([\"Day\", \"Night\"])) &\n",
    "       (df[\"Nautical_Twilight\"].isin([\"Day\", \"Night\"])) &\n",
    "       (df[\"Astronomical_Twilight\"].isin([\"Day\", \"Night\"]))\n",
    "      ]\n",
    "\n",
    "    # drop irrelevant columns\n",
    "    DROP_COLS = [\"Source\", \"Number\", \"Side\", \"Country\", \"End_Lat\", \"End_Lng\", \"Turning_Loop\", \"Precipitation(in)\", \"Civil_Twilight\", \"Nautical_Twilight\", \"Astronomical_Twilight\", \"Airport_Code\", \"Weather_Timestamp\", \"Timezone\"]\n",
    "    df = df.drop(columns=DROP_COLS)\n",
    "    \n",
    "    # map is_highway\n",
    "    df[\"is_highway\"] = df[\"Street\"].apply(is_highway)\n",
    "    \n",
    "    # create US region\n",
    "    df[\"region\"] = df[\"State\"].apply(map_state)\n",
    "    \n",
    "    # create time_elapsed\n",
    "    df[\"Time_Elapsed\"] = (pd.to_datetime(df['End_Time'])-pd.to_datetime(df[\"Start_Time\"])).astype('timedelta64[m]')\n",
    "    df = df[df[\"Time_Elapsed\"] > 0]\n",
    "    \n",
    "    # categorize weather_condition\n",
    "    df[\"Weather\"] = df[\"Weather_Condition\"].apply(encode_weather)\n",
    "    \n",
    "    HAS_NA_COLS = [\"Temperature(F)\", 'Wind_Chill(F)', 'Humidity(%)',\n",
    "       'Pressure(in)', 'Visibility(mi)','Wind_Speed(mph)']\n",
    "    \n",
    "    for _c in HAS_NA_COLS:\n",
    "        df.loc[df[_c].isnull(), _c] = df[_c].median()\n",
    "    \n",
    "    return df\n",
    "\n",
    "# df = filter_df(df)"
   ]
  },
  {
   "cell_type": "code",
   "execution_count": 2,
   "metadata": {},
   "outputs": [],
   "source": [
    "PATH = \"../../../archive/US_Accidents_June20.csv\"\n",
    "PARENT = \"../../../archive/\"\n",
    "filename = \"US_Accidents_June20\""
   ]
  },
  {
   "cell_type": "code",
   "execution_count": 4,
   "metadata": {},
   "outputs": [
    {
     "ename": "NameError",
     "evalue": "name 'df' is not defined",
     "output_type": "error",
     "traceback": [
      "\u001b[1;31m---------------------------------------------------------------------------\u001b[0m",
      "\u001b[1;31mNameError\u001b[0m                                 Traceback (most recent call last)",
      "\u001b[1;32m<ipython-input-4-ecf045ab199b>\u001b[0m in \u001b[0;36m<module>\u001b[1;34m()\u001b[0m\n\u001b[1;32m----> 1\u001b[1;33m \u001b[0mdf\u001b[0m\u001b[1;33m.\u001b[0m\u001b[0mloc\u001b[0m\u001b[1;33m[\u001b[0m\u001b[0mdf\u001b[0m\u001b[1;33m[\u001b[0m\u001b[1;34m\"Temperature(F)\"\u001b[0m\u001b[1;33m]\u001b[0m\u001b[1;33m.\u001b[0m\u001b[0misnull\u001b[0m\u001b[1;33m(\u001b[0m\u001b[1;33m)\u001b[0m\u001b[1;33m,\u001b[0m \u001b[1;34m\"Temperature(F)\"\u001b[0m\u001b[1;33m]\u001b[0m\u001b[1;33m.\u001b[0m\u001b[0mhead\u001b[0m\u001b[1;33m(\u001b[0m\u001b[1;33m)\u001b[0m\u001b[1;33m\u001b[0m\u001b[0m\n\u001b[0m",
      "\u001b[1;31mNameError\u001b[0m: name 'df' is not defined"
     ]
    }
   ],
   "source": [
    "df.loc[df[\"Temperature(F)\"].isnull(), \"Temperature(F)\"].head()"
   ]
  },
  {
   "cell_type": "code",
   "execution_count": 5,
   "metadata": {},
   "outputs": [
    {
     "ename": "NameError",
     "evalue": "name 'df' is not defined",
     "output_type": "error",
     "traceback": [
      "\u001b[1;31m---------------------------------------------------------------------------\u001b[0m",
      "\u001b[1;31mNameError\u001b[0m                                 Traceback (most recent call last)",
      "\u001b[1;32m<ipython-input-5-73f569783101>\u001b[0m in \u001b[0;36m<module>\u001b[1;34m()\u001b[0m\n\u001b[1;32m----> 1\u001b[1;33m \u001b[0mdf\u001b[0m\u001b[1;33m[\u001b[0m\u001b[0mdf\u001b[0m\u001b[1;33m[\u001b[0m\u001b[1;34m\"Distance(mi)\"\u001b[0m\u001b[1;33m]\u001b[0m\u001b[1;33m>\u001b[0m\u001b[1;36m0\u001b[0m\u001b[1;33m]\u001b[0m\u001b[1;33m.\u001b[0m\u001b[0msum\u001b[0m\u001b[1;33m(\u001b[0m\u001b[1;33m)\u001b[0m\u001b[1;33m\u001b[0m\u001b[0m\n\u001b[0m",
      "\u001b[1;31mNameError\u001b[0m: name 'df' is not defined"
     ]
    }
   ],
   "source": [
    "df[df[\"Distance(mi)\"]>0].sum()"
   ]
  },
  {
   "cell_type": "code",
   "execution_count": 3,
   "metadata": {},
   "outputs": [
    {
     "data": {
      "text/plain": [
       "(3513617, 49)"
      ]
     },
     "execution_count": 3,
     "metadata": {},
     "output_type": "execute_result"
    }
   ],
   "source": [
    "df = pd.read_csv(PATH)\n",
    "df.shape"
   ]
  },
  {
   "cell_type": "code",
   "execution_count": 6,
   "metadata": {},
   "outputs": [],
   "source": [
    "df = filter_df(df)"
   ]
  },
  {
   "cell_type": "code",
   "execution_count": 7,
   "metadata": {},
   "outputs": [
    {
     "data": {
      "text/plain": [
       "(3513480, 39)"
      ]
     },
     "execution_count": 7,
     "metadata": {},
     "output_type": "execute_result"
    }
   ],
   "source": [
    "df.shape"
   ]
  },
  {
   "cell_type": "code",
   "execution_count": 25,
   "metadata": {},
   "outputs": [],
   "source": [
    "severity_df = pd.DataFrame(df.groupby(\"Severity\").count()[\"ID\"])"
   ]
  },
  {
   "cell_type": "code",
   "execution_count": 26,
   "metadata": {},
   "outputs": [],
   "source": [
    "severity_df[\"ration\"] = severity_df[\"ID\"].apply(lambda x: x/df.shape[0])"
   ]
  },
  {
   "cell_type": "code",
   "execution_count": 28,
   "metadata": {},
   "outputs": [
    {
     "data": {
      "text/html": [
       "<div>\n",
       "<style scoped>\n",
       "    .dataframe tbody tr th:only-of-type {\n",
       "        vertical-align: middle;\n",
       "    }\n",
       "\n",
       "    .dataframe tbody tr th {\n",
       "        vertical-align: top;\n",
       "    }\n",
       "\n",
       "    .dataframe thead th {\n",
       "        text-align: right;\n",
       "    }\n",
       "</style>\n",
       "<table border=\"1\" class=\"dataframe\">\n",
       "  <thead>\n",
       "    <tr style=\"text-align: right;\">\n",
       "      <th></th>\n",
       "      <th>ID</th>\n",
       "      <th>ration</th>\n",
       "    </tr>\n",
       "    <tr>\n",
       "      <th>Severity</th>\n",
       "      <th></th>\n",
       "      <th></th>\n",
       "    </tr>\n",
       "  </thead>\n",
       "  <tbody>\n",
       "    <tr>\n",
       "      <th>0</th>\n",
       "      <td>2402287</td>\n",
       "      <td>0.683734</td>\n",
       "    </tr>\n",
       "    <tr>\n",
       "      <th>1</th>\n",
       "      <td>1111193</td>\n",
       "      <td>0.316266</td>\n",
       "    </tr>\n",
       "  </tbody>\n",
       "</table>\n",
       "</div>"
      ],
      "text/plain": [
       "               ID    ration\n",
       "Severity                   \n",
       "0         2402287  0.683734\n",
       "1         1111193  0.316266"
      ]
     },
     "execution_count": 28,
     "metadata": {},
     "output_type": "execute_result"
    }
   ],
   "source": [
    "severity_df"
   ]
  },
  {
   "cell_type": "code",
   "execution_count": 27,
   "metadata": {},
   "outputs": [
    {
     "data": {
      "image/png": "[encoded data removed]",
      "text/plain": [
       "<Figure size 720x720 with 1 Axes>"
      ]
     },
     "metadata": {},
     "output_type": "display_data"
    }
   ],
   "source": [
    "plt.figure(figsize=(10,10))\n",
    "ax = sns.barplot(x=severity_df.index, y=severity_df[\"ID\"], palette=\"Blues_r\")\n",
    "plt.title(\"Severity Count Distribution.\")\n",
    "# _ = plt.xticks(rotation=90)\n",
    "for p in ax.patches:\n",
    "    ax.annotate(\n",
    "        int(p.get_height()),\n",
    "        (p.get_x(), p.get_height())\n",
    "    )\n",
    "            "
   ]
  },
  {
   "cell_type": "code",
   "execution_count": 24,
   "metadata": {},
   "outputs": [],
   "source": [
    "df[\"Severity\"] = df[\"Severity\"].apply(lambda x: 0 if x < 3 else 1)"
   ]
  },
  {
   "cell_type": "code",
   "execution_count": 19,
   "metadata": {},
   "outputs": [
    {
     "data": {
      "text/plain": [
       "array([1, 0], dtype=int64)"
      ]
     },
     "execution_count": 19,
     "metadata": {},
     "output_type": "execute_result"
    }
   ],
   "source": [
    "df[\"Severity\"].unique()"
   ]
  },
  {
   "cell_type": "code",
   "execution_count": null,
   "metadata": {},
   "outputs": [],
   "source": [
    "df[\"Severity\"].head()"
   ]
  },
  {
   "cell_type": "code",
   "execution_count": null,
   "metadata": {},
   "outputs": [],
   "source": [
    "df[df[\"TMC\"] == 201.0].groupby(\"Severity\").count()[\"ID\"]"
   ]
  },
  {
   "cell_type": "code",
   "execution_count": null,
   "metadata": {},
   "outputs": [],
   "source": [
    "df[\"Distance(mi)\"]"
   ]
  },
  {
   "cell_type": "code",
   "execution_count": 8,
   "metadata": {},
   "outputs": [
    {
     "data": {
      "text/plain": [
       "(3513480, 39)"
      ]
     },
     "execution_count": 8,
     "metadata": {},
     "output_type": "execute_result"
    }
   ],
   "source": [
    "df.shape"
   ]
  },
  {
   "cell_type": "code",
   "execution_count": 25,
   "metadata": {},
   "outputs": [
    {
     "data": {
      "text/plain": [
       "array(['midwest', 'south', 'west', 'northeast'], dtype=object)"
      ]
     },
     "execution_count": 25,
     "metadata": {},
     "output_type": "execute_result"
    }
   ],
   "source": [
    "df[\"region\"].unique()"
   ]
  },
  {
   "cell_type": "code",
   "execution_count": 33,
   "metadata": {},
   "outputs": [
    {
     "data": {
      "text/plain": [
       "region\n",
       "midwest       544561\n",
       "northeast     414259\n",
       "south        1379967\n",
       "west         1174693\n",
       "Name: ID, dtype: int64"
      ]
     },
     "execution_count": 33,
     "metadata": {},
     "output_type": "execute_result"
    }
   ],
   "source": [
    "df.groupby(\"region\").count()[\"ID\"]"
   ]
  },
  {
   "cell_type": "code",
   "execution_count": 22,
   "metadata": {},
   "outputs": [],
   "source": [
    "for region in df[\"region\"].unique():\n",
    "    df[df[\"region\"] == region].to_csv(os.path.join(PARENT, \"{}_clean_{}.csv\".format(filename, region)))"
   ]
  },
  {
   "cell_type": "code",
   "execution_count": 24,
   "metadata": {},
   "outputs": [],
   "source": [
    "df.to_csv(os.path.join(PARENT, \"{}_clean.csv\".format(filename)))"
   ]
  },
  {
   "cell_type": "markdown",
   "metadata": {},
   "source": [
    "## Day VS Night"
   ]
  },
  {
   "cell_type": "code",
   "execution_count": 6,
   "metadata": {},
   "outputs": [],
   "source": [
    "TWILIGHT_COLS = [\"Civil_Twilight\", \"Sunrise_Sunset\", \"Nautical_Twilight\", \"Astronomical_Twilight\"]"
   ]
  },
  {
   "cell_type": "code",
   "execution_count": 7,
   "metadata": {},
   "outputs": [],
   "source": [
    "new_df = df.melt(value_vars=[\"Civil_Twilight\", \"Sunrise_Sunset\", \"Nautical_Twilight\", \"Astronomical_Twilight\"])\n",
    "new_df[\"count\"] = 1\n",
    "new_df.head()\n",
    "twilight_count = new_df.groupby([\"variable\", \"value\"]).count()\n",
    "twilight_count = twilight_count.reset_index()\n",
    "del new_df"
   ]
  },
  {
   "cell_type": "code",
   "execution_count": 8,
   "metadata": {},
   "outputs": [
    {
     "data": {
      "text/html": [
       "<div>\n",
       "<style scoped>\n",
       "    .dataframe tbody tr th:only-of-type {\n",
       "        vertical-align: middle;\n",
       "    }\n",
       "\n",
       "    .dataframe tbody tr th {\n",
       "        vertical-align: top;\n",
       "    }\n",
       "\n",
       "    .dataframe thead th {\n",
       "        text-align: right;\n",
       "    }\n",
       "</style>\n",
       "<table border=\"1\" class=\"dataframe\">\n",
       "  <thead>\n",
       "    <tr style=\"text-align: right;\">\n",
       "      <th></th>\n",
       "      <th>variable</th>\n",
       "      <th>value</th>\n",
       "      <th>count</th>\n",
       "    </tr>\n",
       "  </thead>\n",
       "  <tbody>\n",
       "    <tr>\n",
       "      <th>0</th>\n",
       "      <td>Astronomical_Twilight</td>\n",
       "      <td>Day</td>\n",
       "      <td>3075001</td>\n",
       "    </tr>\n",
       "    <tr>\n",
       "      <th>1</th>\n",
       "      <td>Astronomical_Twilight</td>\n",
       "      <td>Night</td>\n",
       "      <td>438501</td>\n",
       "    </tr>\n",
       "    <tr>\n",
       "      <th>2</th>\n",
       "      <td>Civil_Twilight</td>\n",
       "      <td>Day</td>\n",
       "      <td>2767921</td>\n",
       "    </tr>\n",
       "    <tr>\n",
       "      <th>3</th>\n",
       "      <td>Civil_Twilight</td>\n",
       "      <td>Night</td>\n",
       "      <td>745581</td>\n",
       "    </tr>\n",
       "    <tr>\n",
       "      <th>4</th>\n",
       "      <td>Nautical_Twilight</td>\n",
       "      <td>Day</td>\n",
       "      <td>2943398</td>\n",
       "    </tr>\n",
       "    <tr>\n",
       "      <th>5</th>\n",
       "      <td>Nautical_Twilight</td>\n",
       "      <td>Night</td>\n",
       "      <td>570104</td>\n",
       "    </tr>\n",
       "    <tr>\n",
       "      <th>6</th>\n",
       "      <td>Sunrise_Sunset</td>\n",
       "      <td>Day</td>\n",
       "      <td>2593757</td>\n",
       "    </tr>\n",
       "    <tr>\n",
       "      <th>7</th>\n",
       "      <td>Sunrise_Sunset</td>\n",
       "      <td>Night</td>\n",
       "      <td>919745</td>\n",
       "    </tr>\n",
       "  </tbody>\n",
       "</table>\n",
       "</div>"
      ],
      "text/plain": [
       "                variable  value    count\n",
       "0  Astronomical_Twilight    Day  3075001\n",
       "1  Astronomical_Twilight  Night   438501\n",
       "2         Civil_Twilight    Day  2767921\n",
       "3         Civil_Twilight  Night   745581\n",
       "4      Nautical_Twilight    Day  2943398\n",
       "5      Nautical_Twilight  Night   570104\n",
       "6         Sunrise_Sunset    Day  2593757\n",
       "7         Sunrise_Sunset  Night   919745"
      ]
     },
     "execution_count": 8,
     "metadata": {},
     "output_type": "execute_result"
    }
   ],
   "source": [
    "twilight_count"
   ]
  },
  {
   "cell_type": "code",
   "execution_count": 9,
   "metadata": {},
   "outputs": [
    {
     "data": {
      "text/plain": [
       "(array([0, 1, 2, 3]), <a list of 4 Text xticklabel objects>)"
      ]
     },
     "execution_count": 9,
     "metadata": {},
     "output_type": "execute_result"
    },
    {
     "data": {
      "image/png": "[encoded data removed]",
      "text/plain": [
       "<Figure size 423x360 with 1 Axes>"
      ]
     },
     "metadata": {},
     "output_type": "display_data"
    }
   ],
   "source": [
    "fg = sns.catplot(x=\"variable\", y='count', hue=\"value\", data=twilight_count, kind='bar')\n",
    "fg.set_xlabels('')\n",
    "plt.title(\"Twilight [day, night] counts\")\n",
    "plt.xticks(rotation=90)"
   ]
  },
  {
   "cell_type": "code",
   "execution_count": 10,
   "metadata": {},
   "outputs": [],
   "source": [
    "df = df[(df[\"Sunrise_Sunset\"].isin([\"Day\", \"Night\"])) &\n",
    "   (df[\"Civil_Twilight\"].isin([\"Day\", \"Night\"])) &\n",
    "   (df[\"Nautical_Twilight\"].isin([\"Day\", \"Night\"])) &\n",
    "   (df[\"Astronomical_Twilight\"].isin([\"Day\", \"Night\"]))\n",
    "  ]"
   ]
  },
  {
   "cell_type": "code",
   "execution_count": 11,
   "metadata": {},
   "outputs": [
    {
     "data": {
      "text/plain": [
       "(3513502, 49)"
      ]
     },
     "execution_count": 11,
     "metadata": {},
     "output_type": "execute_result"
    }
   ],
   "source": [
    "df.shape"
   ]
  },
  {
   "cell_type": "code",
   "execution_count": 132,
   "metadata": {},
   "outputs": [],
   "source": [
    "weat = df.groupby(\"Weather_Condition\").count()[\"ID\"].index"
   ]
  },
  {
   "cell_type": "code",
   "execution_count": 134,
   "metadata": {},
   "outputs": [
    {
     "data": {
      "text/plain": [
       "(127,)"
      ]
     },
     "execution_count": 134,
     "metadata": {},
     "output_type": "execute_result"
    }
   ],
   "source": [
    "weat.shape"
   ]
  },
  {
   "cell_type": "code",
   "execution_count": 139,
   "metadata": {},
   "outputs": [
    {
     "data": {
      "text/plain": [
       "Index(['Drizzle / Windy', 'Drizzle and Fog', 'Dust Whirls', 'Fair',\n",
       "       'Fair / Windy', 'Fog', 'Fog / Windy', 'Freezing Drizzle',\n",
       "       'Freezing Rain', 'Freezing Rain / Windy', 'Funnel Cloud', 'Hail',\n",
       "       'Haze', 'Haze / Windy', 'Heavy Blowing Snow', 'Heavy Drizzle',\n",
       "       'Heavy Freezing Drizzle', 'Heavy Freezing Rain', 'Heavy Ice Pellets',\n",
       "       'Heavy Rain', 'Heavy Rain / Windy', 'Heavy Rain Shower',\n",
       "       'Heavy Rain Showers', 'Heavy Sleet', 'Heavy Smoke', 'Heavy Snow',\n",
       "       'Heavy Snow / Windy', 'Heavy Snow with Thunder', 'Heavy T-Storm',\n",
       "       'Heavy T-Storm / Windy', 'Heavy Thunderstorms and Rain',\n",
       "       'Heavy Thunderstorms and Snow', 'Heavy Thunderstorms with Small Hail',\n",
       "       'Ice Pellets', 'Light Blowing Snow', 'Light Drizzle',\n",
       "       'Light Drizzle / Windy', 'Light Fog', 'Light Freezing Drizzle',\n",
       "       'Light Freezing Fog'],\n",
       "      dtype='object', name='Weather_Condition')"
      ]
     },
     "execution_count": 139,
     "metadata": {},
     "output_type": "execute_result"
    }
   ],
   "source": [
    "weat[10:50]"
   ]
  },
  {
   "cell_type": "code",
   "execution_count": 117,
   "metadata": {},
   "outputs": [
    {
     "data": {
      "text/plain": [
       "'Light Rain'"
      ]
     },
     "execution_count": 117,
     "metadata": {},
     "output_type": "execute_result"
    }
   ],
   "source": [
    "df[\"Weather_Condition\"].iloc[0]"
   ]
  },
  {
   "cell_type": "code",
   "execution_count": 143,
   "metadata": {},
   "outputs": [],
   "source": [
    "def encode_weather(desc):\n",
    "    \"\"\" Encode weather_condition \"\"\"\n",
    "    if type(desc) != float:\n",
    "        \n",
    "        if \"storm\" in desc.lower() or \"thunder\" in desc.lower() or \"smoke\" in desc.lower() or \"tornado\" in desc.lower():\n",
    "            return \"storm\"\n",
    "        elif \"clear\" in desc.lower() or \"fair\" in desc.lower():\n",
    "            return \"clear\"\n",
    "        elif \"rain\" in desc.lower() or \"drizzle\" in desc.lower():\n",
    "            return \"rain\"\n",
    "        elif \"cloud\" in desc.lower() or \"dust\" in desc.lower() or \"fog\" in desc.lower():\n",
    "            return \"cloud/dust/fog\"\n",
    "        elif \"snow\" in desc.lower() or \"ice\" in desc.lower():\n",
    "            return \"snow\"\n",
    "        elif \"wind\" in desc.lower():\n",
    "            return \"windy\"\n",
    "        else:\n",
    "            return \"other\"\n",
    "    else:\n",
    "        return \"other\"\n",
    "    \n",
    "df[\"Weather\"] = df[\"Weather_Condition\"].apply(encode_weather)"
   ]
  },
  {
   "cell_type": "code",
   "execution_count": 144,
   "metadata": {},
   "outputs": [],
   "source": [
    "df[\"Weather\"] = df[\"Weather_Condition\"].apply(encode_weather)"
   ]
  },
  {
   "cell_type": "code",
   "execution_count": 145,
   "metadata": {},
   "outputs": [
    {
     "data": {
      "text/plain": [
       "Weather\n",
       "clear             1363826\n",
       "cloud/dust/fog    1298464\n",
       "other              502306\n",
       "rain               256266\n",
       "snow                59802\n",
       "storm               32606\n",
       "windy                 232\n",
       "Name: ID, dtype: int64"
      ]
     },
     "execution_count": 145,
     "metadata": {},
     "output_type": "execute_result"
    }
   ],
   "source": [
    "df.groupby(\"Weather\").count()[\"ID\"]"
   ]
  },
  {
   "cell_type": "markdown",
   "metadata": {},
   "source": [
    "## Drop irrelevant columns\n",
    "- TMC\n",
    "- Number (address)\n",
    "- Street\n",
    "- Side\n",
    "- Weather_Timestamp"
   ]
  },
  {
   "cell_type": "code",
   "execution_count": 12,
   "metadata": {},
   "outputs": [],
   "source": [
    "DROP_COLS = [\"Source\", \"Number\", \"Side\", \"Country\", \"End_Lat\", \"End_Lng\", \"Turning_Loop\", \"Precipitation(in)\", \"Civil_Twilight\", \"Nautical_Twilight\", \"Astronomical_Twilight\", \"Airport_Code\", \"Weather_Timestamp\", \"Timezone\"]\n",
    "df = df.drop(columns=DROP_COLS)"
   ]
  },
  {
   "cell_type": "code",
   "execution_count": 13,
   "metadata": {},
   "outputs": [
    {
     "data": {
      "text/plain": [
       "Index(['ID', 'TMC', 'Severity', 'Start_Time', 'End_Time', 'Start_Lat',\n",
       "       'Start_Lng', 'Distance(mi)', 'Description', 'Street', 'City', 'County',\n",
       "       'State', 'Zipcode', 'Temperature(F)', 'Wind_Chill(F)', 'Humidity(%)',\n",
       "       'Pressure(in)', 'Visibility(mi)', 'Wind_Direction', 'Wind_Speed(mph)',\n",
       "       'Weather_Condition', 'Amenity', 'Bump', 'Crossing', 'Give_Way',\n",
       "       'Junction', 'No_Exit', 'Railway', 'Roundabout', 'Station', 'Stop',\n",
       "       'Traffic_Calming', 'Traffic_Signal', 'Sunrise_Sunset'],\n",
       "      dtype='object')"
      ]
     },
     "execution_count": 13,
     "metadata": {},
     "output_type": "execute_result"
    }
   ],
   "source": [
    "df.columns"
   ]
  },
  {
   "cell_type": "code",
   "execution_count": 14,
   "metadata": {},
   "outputs": [
    {
     "data": {
      "text/plain": [
       "(35,)"
      ]
     },
     "execution_count": 14,
     "metadata": {},
     "output_type": "execute_result"
    }
   ],
   "source": [
    "df.columns.shape"
   ]
  },
  {
   "cell_type": "markdown",
   "metadata": {},
   "source": [
    "## POI Annotation\n",
    "\n",
    "-- Turning_Loop only have 1 unique value"
   ]
  },
  {
   "cell_type": "code",
   "execution_count": 6,
   "metadata": {},
   "outputs": [],
   "source": [
    "POI_COLS = [\n",
    "    \"Amenity\",\n",
    "    \"Bump\",\n",
    "    \"Crossing\",\n",
    "    \"Give_Way\",\n",
    "    \"Junction\",\n",
    "    \"No_Exit\",\n",
    "    \"Railway\",\n",
    "    \"Roundabout\",\n",
    "    \"Station\",\n",
    "    \"Stop\",\n",
    "    \"Traffic_Calming\",\n",
    "    \"Traffic_Signal\",\n",
    "]"
   ]
  },
  {
   "cell_type": "code",
   "execution_count": 7,
   "metadata": {},
   "outputs": [
    {
     "data": {
      "text/html": [
       "<div>\n",
       "<style scoped>\n",
       "    .dataframe tbody tr th:only-of-type {\n",
       "        vertical-align: middle;\n",
       "    }\n",
       "\n",
       "    .dataframe tbody tr th {\n",
       "        vertical-align: top;\n",
       "    }\n",
       "\n",
       "    .dataframe thead th {\n",
       "        text-align: right;\n",
       "    }\n",
       "</style>\n",
       "<table border=\"1\" class=\"dataframe\">\n",
       "  <thead>\n",
       "    <tr style=\"text-align: right;\">\n",
       "      <th></th>\n",
       "      <th>Amenity</th>\n",
       "      <th>Bump</th>\n",
       "      <th>Crossing</th>\n",
       "      <th>Give_Way</th>\n",
       "      <th>Junction</th>\n",
       "      <th>No_Exit</th>\n",
       "      <th>Railway</th>\n",
       "      <th>Roundabout</th>\n",
       "      <th>Station</th>\n",
       "      <th>Stop</th>\n",
       "      <th>Traffic_Calming</th>\n",
       "      <th>Traffic_Signal</th>\n",
       "    </tr>\n",
       "  </thead>\n",
       "  <tbody>\n",
       "    <tr>\n",
       "      <th>count</th>\n",
       "      <td>3513480</td>\n",
       "      <td>3513480</td>\n",
       "      <td>3513480</td>\n",
       "      <td>3513480</td>\n",
       "      <td>3513480</td>\n",
       "      <td>3513480</td>\n",
       "      <td>3513480</td>\n",
       "      <td>3513480</td>\n",
       "      <td>3513480</td>\n",
       "      <td>3513480</td>\n",
       "      <td>3513480</td>\n",
       "      <td>3513480</td>\n",
       "    </tr>\n",
       "    <tr>\n",
       "      <th>unique</th>\n",
       "      <td>2</td>\n",
       "      <td>2</td>\n",
       "      <td>2</td>\n",
       "      <td>2</td>\n",
       "      <td>2</td>\n",
       "      <td>2</td>\n",
       "      <td>2</td>\n",
       "      <td>2</td>\n",
       "      <td>2</td>\n",
       "      <td>2</td>\n",
       "      <td>2</td>\n",
       "      <td>2</td>\n",
       "    </tr>\n",
       "    <tr>\n",
       "      <th>top</th>\n",
       "      <td>False</td>\n",
       "      <td>False</td>\n",
       "      <td>False</td>\n",
       "      <td>False</td>\n",
       "      <td>False</td>\n",
       "      <td>False</td>\n",
       "      <td>False</td>\n",
       "      <td>False</td>\n",
       "      <td>False</td>\n",
       "      <td>False</td>\n",
       "      <td>False</td>\n",
       "      <td>False</td>\n",
       "    </tr>\n",
       "    <tr>\n",
       "      <th>freq</th>\n",
       "      <td>3471403</td>\n",
       "      <td>3512874</td>\n",
       "      <td>3238977</td>\n",
       "      <td>3503916</td>\n",
       "      <td>3229060</td>\n",
       "      <td>3509096</td>\n",
       "      <td>3482305</td>\n",
       "      <td>3513296</td>\n",
       "      <td>3443160</td>\n",
       "      <td>3461505</td>\n",
       "      <td>3512079</td>\n",
       "      <td>2889894</td>\n",
       "    </tr>\n",
       "  </tbody>\n",
       "</table>\n",
       "</div>"
      ],
      "text/plain": [
       "        Amenity     Bump Crossing Give_Way Junction  No_Exit  Railway  \\\n",
       "count   3513480  3513480  3513480  3513480  3513480  3513480  3513480   \n",
       "unique        2        2        2        2        2        2        2   \n",
       "top       False    False    False    False    False    False    False   \n",
       "freq    3471403  3512874  3238977  3503916  3229060  3509096  3482305   \n",
       "\n",
       "       Roundabout  Station     Stop Traffic_Calming Traffic_Signal  \n",
       "count     3513480  3513480  3513480         3513480        3513480  \n",
       "unique          2        2        2               2              2  \n",
       "top         False    False    False           False          False  \n",
       "freq      3513296  3443160  3461505         3512079        2889894  "
      ]
     },
     "execution_count": 7,
     "metadata": {},
     "output_type": "execute_result"
    }
   ],
   "source": [
    "df[POI_COLS].describe()"
   ]
  },
  {
   "cell_type": "code",
   "execution_count": 8,
   "metadata": {},
   "outputs": [
    {
     "data": {
      "text/html": [
       "<div>\n",
       "<style scoped>\n",
       "    .dataframe tbody tr th:only-of-type {\n",
       "        vertical-align: middle;\n",
       "    }\n",
       "\n",
       "    .dataframe tbody tr th {\n",
       "        vertical-align: top;\n",
       "    }\n",
       "\n",
       "    .dataframe thead th {\n",
       "        text-align: right;\n",
       "    }\n",
       "</style>\n",
       "<table border=\"1\" class=\"dataframe\">\n",
       "  <thead>\n",
       "    <tr style=\"text-align: right;\">\n",
       "      <th></th>\n",
       "      <th>variable</th>\n",
       "      <th>value</th>\n",
       "      <th>count</th>\n",
       "    </tr>\n",
       "  </thead>\n",
       "  <tbody>\n",
       "    <tr>\n",
       "      <th>0</th>\n",
       "      <td>Amenity</td>\n",
       "      <td>False</td>\n",
       "      <td>1</td>\n",
       "    </tr>\n",
       "    <tr>\n",
       "      <th>1</th>\n",
       "      <td>Amenity</td>\n",
       "      <td>False</td>\n",
       "      <td>1</td>\n",
       "    </tr>\n",
       "    <tr>\n",
       "      <th>2</th>\n",
       "      <td>Amenity</td>\n",
       "      <td>False</td>\n",
       "      <td>1</td>\n",
       "    </tr>\n",
       "    <tr>\n",
       "      <th>3</th>\n",
       "      <td>Amenity</td>\n",
       "      <td>False</td>\n",
       "      <td>1</td>\n",
       "    </tr>\n",
       "    <tr>\n",
       "      <th>4</th>\n",
       "      <td>Amenity</td>\n",
       "      <td>False</td>\n",
       "      <td>1</td>\n",
       "    </tr>\n",
       "  </tbody>\n",
       "</table>\n",
       "</div>"
      ],
      "text/plain": [
       "  variable  value  count\n",
       "0  Amenity  False      1\n",
       "1  Amenity  False      1\n",
       "2  Amenity  False      1\n",
       "3  Amenity  False      1\n",
       "4  Amenity  False      1"
      ]
     },
     "execution_count": 8,
     "metadata": {},
     "output_type": "execute_result"
    }
   ],
   "source": [
    "new_df = df.melt(value_vars=POI_COLS)\n",
    "new_df[\"count\"] = 1\n",
    "new_df.head()"
   ]
  },
  {
   "cell_type": "code",
   "execution_count": 9,
   "metadata": {},
   "outputs": [],
   "source": [
    "POI_count = new_df.groupby([\"variable\", \"value\"]).count()\n",
    "POI_count = POI_count.reset_index()\n",
    "del new_df"
   ]
  },
  {
   "cell_type": "code",
   "execution_count": 10,
   "metadata": {},
   "outputs": [
    {
     "data": {
      "text/html": [
       "<style  type=\"text/css\" >\n",
       "</style>  \n",
       "<table id=\"T_aaac0552_369f_11eb_b4b9_00c2c6a6dda2\" > \n",
       "<thead>    <tr> \n",
       "        <th class=\"col_heading level0 col0\" >variable</th> \n",
       "        <th class=\"col_heading level0 col1\" >value</th> \n",
       "        <th class=\"col_heading level0 col2\" >count</th> \n",
       "    </tr></thead> \n",
       "<tbody>    <tr> \n",
       "        <td id=\"T_aaac0552_369f_11eb_b4b9_00c2c6a6dda2row0_col0\" class=\"data row0 col0\" >Traffic_Signal</td> \n",
       "        <td id=\"T_aaac0552_369f_11eb_b4b9_00c2c6a6dda2row0_col1\" class=\"data row0 col1\" >True</td> \n",
       "        <td id=\"T_aaac0552_369f_11eb_b4b9_00c2c6a6dda2row0_col2\" class=\"data row0 col2\" >623586</td> \n",
       "    </tr>    <tr> \n",
       "        <td id=\"T_aaac0552_369f_11eb_b4b9_00c2c6a6dda2row1_col0\" class=\"data row1 col0\" >Junction</td> \n",
       "        <td id=\"T_aaac0552_369f_11eb_b4b9_00c2c6a6dda2row1_col1\" class=\"data row1 col1\" >True</td> \n",
       "        <td id=\"T_aaac0552_369f_11eb_b4b9_00c2c6a6dda2row1_col2\" class=\"data row1 col2\" >284420</td> \n",
       "    </tr>    <tr> \n",
       "        <td id=\"T_aaac0552_369f_11eb_b4b9_00c2c6a6dda2row2_col0\" class=\"data row2 col0\" >Crossing</td> \n",
       "        <td id=\"T_aaac0552_369f_11eb_b4b9_00c2c6a6dda2row2_col1\" class=\"data row2 col1\" >True</td> \n",
       "        <td id=\"T_aaac0552_369f_11eb_b4b9_00c2c6a6dda2row2_col2\" class=\"data row2 col2\" >274503</td> \n",
       "    </tr>    <tr> \n",
       "        <td id=\"T_aaac0552_369f_11eb_b4b9_00c2c6a6dda2row3_col0\" class=\"data row3 col0\" >Station</td> \n",
       "        <td id=\"T_aaac0552_369f_11eb_b4b9_00c2c6a6dda2row3_col1\" class=\"data row3 col1\" >True</td> \n",
       "        <td id=\"T_aaac0552_369f_11eb_b4b9_00c2c6a6dda2row3_col2\" class=\"data row3 col2\" >70320</td> \n",
       "    </tr>    <tr> \n",
       "        <td id=\"T_aaac0552_369f_11eb_b4b9_00c2c6a6dda2row4_col0\" class=\"data row4 col0\" >Stop</td> \n",
       "        <td id=\"T_aaac0552_369f_11eb_b4b9_00c2c6a6dda2row4_col1\" class=\"data row4 col1\" >True</td> \n",
       "        <td id=\"T_aaac0552_369f_11eb_b4b9_00c2c6a6dda2row4_col2\" class=\"data row4 col2\" >51975</td> \n",
       "    </tr>    <tr> \n",
       "        <td id=\"T_aaac0552_369f_11eb_b4b9_00c2c6a6dda2row5_col0\" class=\"data row5 col0\" >Amenity</td> \n",
       "        <td id=\"T_aaac0552_369f_11eb_b4b9_00c2c6a6dda2row5_col1\" class=\"data row5 col1\" >True</td> \n",
       "        <td id=\"T_aaac0552_369f_11eb_b4b9_00c2c6a6dda2row5_col2\" class=\"data row5 col2\" >42077</td> \n",
       "    </tr>    <tr> \n",
       "        <td id=\"T_aaac0552_369f_11eb_b4b9_00c2c6a6dda2row6_col0\" class=\"data row6 col0\" >Railway</td> \n",
       "        <td id=\"T_aaac0552_369f_11eb_b4b9_00c2c6a6dda2row6_col1\" class=\"data row6 col1\" >True</td> \n",
       "        <td id=\"T_aaac0552_369f_11eb_b4b9_00c2c6a6dda2row6_col2\" class=\"data row6 col2\" >31175</td> \n",
       "    </tr>    <tr> \n",
       "        <td id=\"T_aaac0552_369f_11eb_b4b9_00c2c6a6dda2row7_col0\" class=\"data row7 col0\" >Give_Way</td> \n",
       "        <td id=\"T_aaac0552_369f_11eb_b4b9_00c2c6a6dda2row7_col1\" class=\"data row7 col1\" >True</td> \n",
       "        <td id=\"T_aaac0552_369f_11eb_b4b9_00c2c6a6dda2row7_col2\" class=\"data row7 col2\" >9564</td> \n",
       "    </tr>    <tr> \n",
       "        <td id=\"T_aaac0552_369f_11eb_b4b9_00c2c6a6dda2row8_col0\" class=\"data row8 col0\" >No_Exit</td> \n",
       "        <td id=\"T_aaac0552_369f_11eb_b4b9_00c2c6a6dda2row8_col1\" class=\"data row8 col1\" >True</td> \n",
       "        <td id=\"T_aaac0552_369f_11eb_b4b9_00c2c6a6dda2row8_col2\" class=\"data row8 col2\" >4384</td> \n",
       "    </tr>    <tr> \n",
       "        <td id=\"T_aaac0552_369f_11eb_b4b9_00c2c6a6dda2row9_col0\" class=\"data row9 col0\" >Traffic_Calming</td> \n",
       "        <td id=\"T_aaac0552_369f_11eb_b4b9_00c2c6a6dda2row9_col1\" class=\"data row9 col1\" >True</td> \n",
       "        <td id=\"T_aaac0552_369f_11eb_b4b9_00c2c6a6dda2row9_col2\" class=\"data row9 col2\" >1401</td> \n",
       "    </tr>    <tr> \n",
       "        <td id=\"T_aaac0552_369f_11eb_b4b9_00c2c6a6dda2row10_col0\" class=\"data row10 col0\" >Bump</td> \n",
       "        <td id=\"T_aaac0552_369f_11eb_b4b9_00c2c6a6dda2row10_col1\" class=\"data row10 col1\" >True</td> \n",
       "        <td id=\"T_aaac0552_369f_11eb_b4b9_00c2c6a6dda2row10_col2\" class=\"data row10 col2\" >606</td> \n",
       "    </tr>    <tr> \n",
       "        <td id=\"T_aaac0552_369f_11eb_b4b9_00c2c6a6dda2row11_col0\" class=\"data row11 col0\" >Roundabout</td> \n",
       "        <td id=\"T_aaac0552_369f_11eb_b4b9_00c2c6a6dda2row11_col1\" class=\"data row11 col1\" >True</td> \n",
       "        <td id=\"T_aaac0552_369f_11eb_b4b9_00c2c6a6dda2row11_col2\" class=\"data row11 col2\" >184</td> \n",
       "    </tr></tbody> \n",
       "</table> "
      ],
      "text/plain": [
       "<pandas.io.formats.style.Styler at 0x1aaeff84588>"
      ]
     },
     "execution_count": 10,
     "metadata": {},
     "output_type": "execute_result"
    }
   ],
   "source": [
    "POI_count[POI_count[\"value\"]==True].sort_values(\"count\",ascending=False).style.hide_index()"
   ]
  },
  {
   "cell_type": "code",
   "execution_count": 11,
   "metadata": {},
   "outputs": [
    {
     "data": {
      "text/plain": [
       "(array([ 0,  1,  2,  3,  4,  5,  6,  7,  8,  9, 10, 11]),\n",
       " <a list of 12 Text xticklabel objects>)"
      ]
     },
     "execution_count": 11,
     "metadata": {},
     "output_type": "execute_result"
    },
    {
     "data": {
      "image/png": "[encoded data removed]",
      "text/plain": [
       "<Figure size 422.125x360 with 1 Axes>"
      ]
     },
     "metadata": {},
     "output_type": "display_data"
    }
   ],
   "source": [
    "fg = sns.catplot(x=\"variable\", y='count', hue=\"value\", data=POI_count, kind='bar')\n",
    "fg.set_xlabels('')\n",
    "plt.title(\"POI counts\")\n",
    "plt.xticks(rotation=90)"
   ]
  },
  {
   "cell_type": "markdown",
   "metadata": {},
   "source": [
    "# Create date and time"
   ]
  },
  {
   "cell_type": "code",
   "execution_count": 12,
   "metadata": {},
   "outputs": [],
   "source": [
    "df[['Date', 'Time']] = df['Start_Time'].str.split(' ', 1, expand=True)"
   ]
  },
  {
   "cell_type": "markdown",
   "metadata": {},
   "source": [
    "## Weather"
   ]
  },
  {
   "cell_type": "code",
   "execution_count": 13,
   "metadata": {},
   "outputs": [
    {
     "data": {
      "text/plain": [
       "0       Light Rain\n",
       "1       Light Rain\n",
       "2         Overcast\n",
       "3    Mostly Cloudy\n",
       "4    Mostly Cloudy\n",
       "Name: Weather_Condition, dtype: object"
      ]
     },
     "execution_count": 13,
     "metadata": {},
     "output_type": "execute_result"
    }
   ],
   "source": [
    "df[\"Weather_Condition\"].head()"
   ]
  },
  {
   "cell_type": "code",
   "execution_count": 16,
   "metadata": {},
   "outputs": [],
   "source": [
    "weather_cond_df = pd.DataFrame(df.groupby(\"Weather_Condition\").count()[\"ID\"].sort_values(ascending=False)).head(75)"
   ]
  },
  {
   "cell_type": "code",
   "execution_count": 17,
   "metadata": {},
   "outputs": [
    {
     "data": {
      "text/html": [
       "<div>\n",
       "<style scoped>\n",
       "    .dataframe tbody tr th:only-of-type {\n",
       "        vertical-align: middle;\n",
       "    }\n",
       "\n",
       "    .dataframe tbody tr th {\n",
       "        vertical-align: top;\n",
       "    }\n",
       "\n",
       "    .dataframe thead th {\n",
       "        text-align: right;\n",
       "    }\n",
       "</style>\n",
       "<table border=\"1\" class=\"dataframe\">\n",
       "  <thead>\n",
       "    <tr style=\"text-align: right;\">\n",
       "      <th></th>\n",
       "      <th>ID</th>\n",
       "    </tr>\n",
       "    <tr>\n",
       "      <th>Weather_Condition</th>\n",
       "      <th></th>\n",
       "    </tr>\n",
       "  </thead>\n",
       "  <tbody>\n",
       "    <tr>\n",
       "      <th>Clear</th>\n",
       "      <td>808168</td>\n",
       "    </tr>\n",
       "    <tr>\n",
       "      <th>Fair</th>\n",
       "      <td>547691</td>\n",
       "    </tr>\n",
       "    <tr>\n",
       "      <th>Mostly Cloudy</th>\n",
       "      <td>488082</td>\n",
       "    </tr>\n",
       "    <tr>\n",
       "      <th>Overcast</th>\n",
       "      <td>382477</td>\n",
       "    </tr>\n",
       "    <tr>\n",
       "      <th>Partly Cloudy</th>\n",
       "      <td>344802</td>\n",
       "    </tr>\n",
       "    <tr>\n",
       "      <th>Cloudy</th>\n",
       "      <td>212873</td>\n",
       "    </tr>\n",
       "    <tr>\n",
       "      <th>Scattered Clouds</th>\n",
       "      <td>204653</td>\n",
       "    </tr>\n",
       "    <tr>\n",
       "      <th>Light Rain</th>\n",
       "      <td>176929</td>\n",
       "    </tr>\n",
       "    <tr>\n",
       "      <th>Light Snow</th>\n",
       "      <td>50433</td>\n",
       "    </tr>\n",
       "    <tr>\n",
       "      <th>Rain</th>\n",
       "      <td>42016</td>\n",
       "    </tr>\n",
       "  </tbody>\n",
       "</table>\n",
       "</div>"
      ],
      "text/plain": [
       "                       ID\n",
       "Weather_Condition        \n",
       "Clear              808168\n",
       "Fair               547691\n",
       "Mostly Cloudy      488082\n",
       "Overcast           382477\n",
       "Partly Cloudy      344802\n",
       "Cloudy             212873\n",
       "Scattered Clouds   204653\n",
       "Light Rain         176929\n",
       "Light Snow          50433\n",
       "Rain                42016"
      ]
     },
     "execution_count": 17,
     "metadata": {},
     "output_type": "execute_result"
    }
   ],
   "source": [
    "weather_cond_df[:10]"
   ]
  },
  {
   "cell_type": "code",
   "execution_count": 18,
   "metadata": {},
   "outputs": [
    {
     "data": {
      "image/png": "[encoded data removed]",
      "text/plain": [
       "<Figure size 720x576 with 1 Axes>"
      ]
     },
     "metadata": {},
     "output_type": "display_data"
    }
   ],
   "source": [
    "_ = plt.figure(figsize=(10,8))\n",
    "_ = plt.title(\"Weather Condition Top 10 categories\")\n",
    "ax = sns.barplot(x=weather_cond_df.index[:10], y=weather_cond_df.ID[:10], palette=\"Blues_r\")\n",
    "_ = plt.xticks(rotation=90)\n",
    "for p in ax.patches:\n",
    "    ax.annotate(\n",
    "        int(p.get_height()),\n",
    "        (p.get_x(), p.get_height())\n",
    "    )"
   ]
  },
  {
   "cell_type": "code",
   "execution_count": 19,
   "metadata": {},
   "outputs": [],
   "source": [
    "WEATHER_COLS = [\n",
    "    \"Temperature(F)\",\n",
    "    \"Wind_Chill(F)\",\n",
    "    \"Humidity(%)\",\n",
    "    \"Pressure(in)\",\n",
    "    \"Visibility(mi)\",\n",
    "    \"Wind_Direction\",\n",
    "    \"Wind_Speed(mph)\",\n",
    "]"
   ]
  },
  {
   "cell_type": "code",
   "execution_count": 20,
   "metadata": {},
   "outputs": [
    {
     "name": "stdout",
     "output_type": "stream",
     "text": [
      "Temperature(F)\t0\t0.0000\n",
      "Wind_Chill(F)\t0\t0.0000\n",
      "Humidity(%)\t0\t0.0000\n",
      "Pressure(in)\t0\t0.0000\n",
      "Visibility(mi)\t0\t0.0000\n",
      "Wind_Direction\t58873\t0.0168\n",
      "Wind_Speed(mph)\t0\t0.0000\n"
     ]
    }
   ],
   "source": [
    "for w in WEATHER_COLS:\n",
    "    print(\"{}\\t{}\\t{:.4f}\".format(w, np.sum(df[w].isna()), np.sum(df[w].isna())/df.shape[0]))"
   ]
  },
  {
   "cell_type": "code",
   "execution_count": 21,
   "metadata": {},
   "outputs": [
    {
     "data": {
      "text/html": [
       "<div>\n",
       "<style scoped>\n",
       "    .dataframe tbody tr th:only-of-type {\n",
       "        vertical-align: middle;\n",
       "    }\n",
       "\n",
       "    .dataframe tbody tr th {\n",
       "        vertical-align: top;\n",
       "    }\n",
       "\n",
       "    .dataframe thead th {\n",
       "        text-align: right;\n",
       "    }\n",
       "</style>\n",
       "<table border=\"1\" class=\"dataframe\">\n",
       "  <thead>\n",
       "    <tr style=\"text-align: right;\">\n",
       "      <th></th>\n",
       "      <th>Temperature(F)</th>\n",
       "      <th>Wind_Chill(F)</th>\n",
       "      <th>Humidity(%)</th>\n",
       "      <th>Pressure(in)</th>\n",
       "      <th>Visibility(mi)</th>\n",
       "      <th>Wind_Speed(mph)</th>\n",
       "    </tr>\n",
       "  </thead>\n",
       "  <tbody>\n",
       "    <tr>\n",
       "      <th>count</th>\n",
       "      <td>3.513480e+06</td>\n",
       "      <td>3.513480e+06</td>\n",
       "      <td>3.513480e+06</td>\n",
       "      <td>3.513480e+06</td>\n",
       "      <td>3.513480e+06</td>\n",
       "      <td>3.513480e+06</td>\n",
       "    </tr>\n",
       "    <tr>\n",
       "      <th>mean</th>\n",
       "      <td>6.197380e+01</td>\n",
       "      <td>5.538787e+01</td>\n",
       "      <td>6.515145e+01</td>\n",
       "      <td>2.974789e+01</td>\n",
       "      <td>9.141600e+00</td>\n",
       "      <td>8.061319e+00</td>\n",
       "    </tr>\n",
       "    <tr>\n",
       "      <th>std</th>\n",
       "      <td>1.844827e+01</td>\n",
       "      <td>1.635895e+01</td>\n",
       "      <td>2.253035e+01</td>\n",
       "      <td>8.257386e-01</td>\n",
       "      <td>2.857413e+00</td>\n",
       "      <td>4.927627e+00</td>\n",
       "    </tr>\n",
       "    <tr>\n",
       "      <th>min</th>\n",
       "      <td>-8.900000e+01</td>\n",
       "      <td>-8.900000e+01</td>\n",
       "      <td>1.000000e+00</td>\n",
       "      <td>0.000000e+00</td>\n",
       "      <td>0.000000e+00</td>\n",
       "      <td>0.000000e+00</td>\n",
       "    </tr>\n",
       "    <tr>\n",
       "      <th>25%</th>\n",
       "      <td>5.000000e+01</td>\n",
       "      <td>5.700000e+01</td>\n",
       "      <td>4.900000e+01</td>\n",
       "      <td>2.974000e+01</td>\n",
       "      <td>1.000000e+01</td>\n",
       "      <td>5.000000e+00</td>\n",
       "    </tr>\n",
       "    <tr>\n",
       "      <th>50%</th>\n",
       "      <td>6.400000e+01</td>\n",
       "      <td>5.700000e+01</td>\n",
       "      <td>6.700000e+01</td>\n",
       "      <td>2.995000e+01</td>\n",
       "      <td>1.000000e+01</td>\n",
       "      <td>7.000000e+00</td>\n",
       "    </tr>\n",
       "    <tr>\n",
       "      <th>75%</th>\n",
       "      <td>7.570000e+01</td>\n",
       "      <td>5.700000e+01</td>\n",
       "      <td>8.400000e+01</td>\n",
       "      <td>3.009000e+01</td>\n",
       "      <td>1.000000e+01</td>\n",
       "      <td>1.040000e+01</td>\n",
       "    </tr>\n",
       "    <tr>\n",
       "      <th>max</th>\n",
       "      <td>1.706000e+02</td>\n",
       "      <td>1.150000e+02</td>\n",
       "      <td>1.000000e+02</td>\n",
       "      <td>5.774000e+01</td>\n",
       "      <td>1.400000e+02</td>\n",
       "      <td>9.840000e+02</td>\n",
       "    </tr>\n",
       "  </tbody>\n",
       "</table>\n",
       "</div>"
      ],
      "text/plain": [
       "       Temperature(F)  Wind_Chill(F)   Humidity(%)  Pressure(in)  \\\n",
       "count    3.513480e+06   3.513480e+06  3.513480e+06  3.513480e+06   \n",
       "mean     6.197380e+01   5.538787e+01  6.515145e+01  2.974789e+01   \n",
       "std      1.844827e+01   1.635895e+01  2.253035e+01  8.257386e-01   \n",
       "min     -8.900000e+01  -8.900000e+01  1.000000e+00  0.000000e+00   \n",
       "25%      5.000000e+01   5.700000e+01  4.900000e+01  2.974000e+01   \n",
       "50%      6.400000e+01   5.700000e+01  6.700000e+01  2.995000e+01   \n",
       "75%      7.570000e+01   5.700000e+01  8.400000e+01  3.009000e+01   \n",
       "max      1.706000e+02   1.150000e+02  1.000000e+02  5.774000e+01   \n",
       "\n",
       "       Visibility(mi)  Wind_Speed(mph)  \n",
       "count    3.513480e+06     3.513480e+06  \n",
       "mean     9.141600e+00     8.061319e+00  \n",
       "std      2.857413e+00     4.927627e+00  \n",
       "min      0.000000e+00     0.000000e+00  \n",
       "25%      1.000000e+01     5.000000e+00  \n",
       "50%      1.000000e+01     7.000000e+00  \n",
       "75%      1.000000e+01     1.040000e+01  \n",
       "max      1.400000e+02     9.840000e+02  "
      ]
     },
     "execution_count": 21,
     "metadata": {},
     "output_type": "execute_result"
    }
   ],
   "source": [
    "df[WEATHER_COLS].describe()"
   ]
  },
  {
   "cell_type": "code",
   "execution_count": 38,
   "metadata": {},
   "outputs": [
    {
     "data": {
      "text/plain": [
       "(3058878, 7)"
      ]
     },
     "execution_count": 38,
     "metadata": {},
     "output_type": "execute_result"
    }
   ],
   "source": [
    "df[WEATHER_COLS][df[\"Wind_Speed(mph)\"] < 200].shape"
   ]
  },
  {
   "cell_type": "code",
   "execution_count": 39,
   "metadata": {},
   "outputs": [
    {
     "data": {
      "text/plain": [
       "['Humidity(%)',\n",
       " 'Pressure(in)',\n",
       " 'Visibility(mi)',\n",
       " 'Wind_Direction',\n",
       " 'Wind_Speed(mph)']"
      ]
     },
     "execution_count": 39,
     "metadata": {},
     "output_type": "execute_result"
    }
   ],
   "source": [
    "[w for w in WEATHER_COLS if w not in ['Temperature(F)', 'Wind_Chill(F)']]"
   ]
  },
  {
   "cell_type": "code",
   "execution_count": 40,
   "metadata": {},
   "outputs": [
    {
     "data": {
      "image/png": "[encoded data removed]",
      "text/plain": [
       "<Figure size 1440x720 with 1 Axes>"
      ]
     },
     "metadata": {},
     "output_type": "display_data"
    }
   ],
   "source": [
    "# create box plot\n",
    "plt.figure(figsize=(20,10))\n",
    "plt.title(\"Weather parameters box plots\")\n",
    "ax = sns.boxplot(data=df[[w for w in WEATHER_COLS if w not in ['Temperature(F)', 'Wind_Chill(F)']]][df[\"Wind_Speed(mph)\"] < 200])"
   ]
  },
  {
   "cell_type": "code",
   "execution_count": 21,
   "metadata": {},
   "outputs": [
    {
     "data": {
      "image/png": "[encoded data removed]",
      "text/plain": [
       "<Figure size 1440x720 with 1 Axes>"
      ]
     },
     "metadata": {},
     "output_type": "display_data"
    }
   ],
   "source": [
    "# create box plot\n",
    "plt.figure(figsize=(20,10))\n",
    "plt.title(\"Weather parameters box plots\")\n",
    "ax = sns.boxplot(x=\"Severity\", y=\"Time_Elapsed\", data=df[df[\"Time_Elapsed\"] < 1200][[\"Time_Elapsed\", \"Severity\"]])"
   ]
  },
  {
   "cell_type": "code",
   "execution_count": 24,
   "metadata": {},
   "outputs": [],
   "source": [
    "pd.DataFrame(df.groupby([\"region\", \"Traffic_Signal\"]).count()[\"ID\"]).to_csv(\"./output.csv\")"
   ]
  },
  {
   "cell_type": "code",
   "execution_count": 22,
   "metadata": {},
   "outputs": [
    {
     "data": {
      "text/plain": [
       "(2551, 39)"
      ]
     },
     "execution_count": 22,
     "metadata": {},
     "output_type": "execute_result"
    }
   ],
   "source": [
    "df[df[\"Time_Elapsed\"] >= 1200].shape"
   ]
  },
  {
   "cell_type": "code",
   "execution_count": 16,
   "metadata": {},
   "outputs": [
    {
     "data": {
      "text/plain": [
       "1421955.0"
      ]
     },
     "execution_count": 16,
     "metadata": {},
     "output_type": "execute_result"
    }
   ],
   "source": [
    "df[\"Time_Elapsed\"].max()"
   ]
  },
  {
   "cell_type": "code",
   "execution_count": 41,
   "metadata": {},
   "outputs": [
    {
     "data": {
      "text/plain": [
       "Severity\n",
       "2    19\n",
       "3     8\n",
       "4     2\n",
       "Name: ID, dtype: int64"
      ]
     },
     "execution_count": 41,
     "metadata": {},
     "output_type": "execute_result"
    }
   ],
   "source": [
    "df[df[\"Wind_Speed(mph)\"] > 200].groupby(\"Severity\").count()[\"ID\"]"
   ]
  },
  {
   "cell_type": "code",
   "execution_count": 42,
   "metadata": {},
   "outputs": [
    {
     "data": {
      "text/plain": [
       "Index(['ID', 'TMC', 'Severity', 'Start_Time', 'End_Time', 'Start_Lat',\n",
       "       'Start_Lng', 'Distance(mi)', 'Description', 'Street', 'City', 'County',\n",
       "       'State', 'Zipcode', 'Temperature(F)', 'Wind_Chill(F)', 'Humidity(%)',\n",
       "       'Pressure(in)', 'Visibility(mi)', 'Wind_Direction', 'Wind_Speed(mph)',\n",
       "       'Weather_Condition', 'Amenity', 'Bump', 'Crossing', 'Give_Way',\n",
       "       'Junction', 'No_Exit', 'Railway', 'Roundabout', 'Station', 'Stop',\n",
       "       'Traffic_Calming', 'Traffic_Signal', 'Sunrise_Sunset', 'Date', 'Time'],\n",
       "      dtype='object')"
      ]
     },
     "execution_count": 42,
     "metadata": {},
     "output_type": "execute_result"
    }
   ],
   "source": [
    "df.columns"
   ]
  },
  {
   "cell_type": "markdown",
   "metadata": {},
   "source": [
    "## Non-weather cause"
   ]
  },
  {
   "cell_type": "code",
   "execution_count": 43,
   "metadata": {},
   "outputs": [
    {
     "data": {
      "text/plain": [
       "Severity\n",
       "1      14857\n",
       "2    1430901\n",
       "3     643400\n",
       "4      68472\n",
       "Name: ID, dtype: int64"
      ]
     },
     "execution_count": 43,
     "metadata": {},
     "output_type": "execute_result"
    }
   ],
   "source": [
    "df[~df[\"Weather_Condition\"].isin([\"Clear\", \"Fair\"])].groupby(\"Severity\").count()[\"ID\"]"
   ]
  },
  {
   "cell_type": "code",
   "execution_count": 44,
   "metadata": {},
   "outputs": [
    {
     "data": {
      "text/plain": [
       "Severity\n",
       "1     14314\n",
       "2    942230\n",
       "3    355500\n",
       "4     43828\n",
       "Name: ID, dtype: int64"
      ]
     },
     "execution_count": 44,
     "metadata": {},
     "output_type": "execute_result"
    }
   ],
   "source": [
    "df[df[\"Weather_Condition\"].isin([\"Clear\", \"Fair\"])].groupby(\"Severity\").count()[\"ID\"]"
   ]
  },
  {
   "cell_type": "code",
   "execution_count": 45,
   "metadata": {},
   "outputs": [
    {
     "data": {
      "text/plain": [
       "Severity\n",
       "1      29171\n",
       "2    2373131\n",
       "3     998900\n",
       "4     112300\n",
       "Name: ID, dtype: int64"
      ]
     },
     "execution_count": 45,
     "metadata": {},
     "output_type": "execute_result"
    }
   ],
   "source": [
    "df.groupby(\"Severity\").count()[\"ID\"]"
   ]
  },
  {
   "cell_type": "markdown",
   "metadata": {},
   "source": [
    "## Distance (Mi)"
   ]
  },
  {
   "cell_type": "code",
   "execution_count": 46,
   "metadata": {},
   "outputs": [
    {
     "data": {
      "text/html": [
       "<div>\n",
       "<style scoped>\n",
       "    .dataframe tbody tr th:only-of-type {\n",
       "        vertical-align: middle;\n",
       "    }\n",
       "\n",
       "    .dataframe tbody tr th {\n",
       "        vertical-align: top;\n",
       "    }\n",
       "\n",
       "    .dataframe thead th {\n",
       "        text-align: right;\n",
       "    }\n",
       "</style>\n",
       "<table border=\"1\" class=\"dataframe\">\n",
       "  <thead>\n",
       "    <tr style=\"text-align: right;\">\n",
       "      <th></th>\n",
       "      <th>count</th>\n",
       "      <th>mean</th>\n",
       "      <th>std</th>\n",
       "      <th>min</th>\n",
       "      <th>25%</th>\n",
       "      <th>50%</th>\n",
       "      <th>75%</th>\n",
       "      <th>max</th>\n",
       "    </tr>\n",
       "    <tr>\n",
       "      <th>Severity</th>\n",
       "      <th></th>\n",
       "      <th></th>\n",
       "      <th></th>\n",
       "      <th></th>\n",
       "      <th></th>\n",
       "      <th></th>\n",
       "      <th></th>\n",
       "      <th></th>\n",
       "    </tr>\n",
       "  </thead>\n",
       "  <tbody>\n",
       "    <tr>\n",
       "      <th>1</th>\n",
       "      <td>29171.0</td>\n",
       "      <td>0.195387</td>\n",
       "      <td>0.996080</td>\n",
       "      <td>0.0</td>\n",
       "      <td>0.0</td>\n",
       "      <td>0.000</td>\n",
       "      <td>0.000</td>\n",
       "      <td>24.603000</td>\n",
       "    </tr>\n",
       "    <tr>\n",
       "      <th>2</th>\n",
       "      <td>2373131.0</td>\n",
       "      <td>0.161265</td>\n",
       "      <td>0.973159</td>\n",
       "      <td>0.0</td>\n",
       "      <td>0.0</td>\n",
       "      <td>0.000</td>\n",
       "      <td>0.010</td>\n",
       "      <td>227.210007</td>\n",
       "    </tr>\n",
       "    <tr>\n",
       "      <th>3</th>\n",
       "      <td>998900.0</td>\n",
       "      <td>0.408344</td>\n",
       "      <td>2.080441</td>\n",
       "      <td>0.0</td>\n",
       "      <td>0.0</td>\n",
       "      <td>0.000</td>\n",
       "      <td>0.010</td>\n",
       "      <td>333.630005</td>\n",
       "    </tr>\n",
       "    <tr>\n",
       "      <th>4</th>\n",
       "      <td>112300.0</td>\n",
       "      <td>1.719525</td>\n",
       "      <td>3.727100</td>\n",
       "      <td>0.0</td>\n",
       "      <td>0.2</td>\n",
       "      <td>0.603</td>\n",
       "      <td>1.735</td>\n",
       "      <td>152.543000</td>\n",
       "    </tr>\n",
       "  </tbody>\n",
       "</table>\n",
       "</div>"
      ],
      "text/plain": [
       "              count      mean       std  min  25%    50%    75%         max\n",
       "Severity                                                                   \n",
       "1           29171.0  0.195387  0.996080  0.0  0.0  0.000  0.000   24.603000\n",
       "2         2373131.0  0.161265  0.973159  0.0  0.0  0.000  0.010  227.210007\n",
       "3          998900.0  0.408344  2.080441  0.0  0.0  0.000  0.010  333.630005\n",
       "4          112300.0  1.719525  3.727100  0.0  0.2  0.603  1.735  152.543000"
      ]
     },
     "execution_count": 46,
     "metadata": {},
     "output_type": "execute_result"
    }
   ],
   "source": [
    "df.groupby(\"Severity\").describe()[\"Distance(mi)\"]"
   ]
  },
  {
   "cell_type": "code",
   "execution_count": 47,
   "metadata": {},
   "outputs": [
    {
     "data": {
      "text/plain": [
       "<Figure size 1440x1440 with 0 Axes>"
      ]
     },
     "execution_count": 47,
     "metadata": {},
     "output_type": "execute_result"
    },
    {
     "data": {
      "image/png": "[encoded data removed]",
      "text/plain": [
       "<Figure size 432x288 with 1 Axes>"
      ]
     },
     "metadata": {},
     "output_type": "display_data"
    },
    {
     "data": {
      "text/plain": [
       "<Figure size 1440x1440 with 0 Axes>"
      ]
     },
     "metadata": {},
     "output_type": "display_data"
    }
   ],
   "source": [
    "\n",
    "df.boxplot(column=[\"Distance(mi)\"], by=\"Severity\")\n",
    "plt.figure(figsize=(20, 20))"
   ]
  },
  {
   "cell_type": "markdown",
   "metadata": {},
   "source": [
    "## US population vs automobiles"
   ]
  },
  {
   "cell_type": "code",
   "execution_count": 57,
   "metadata": {},
   "outputs": [],
   "source": [
    "US_pop = {\n",
    "    \"AL\": 4903185,\"AK\": 731545,\n",
    "    \"AZ\": 7278717,\"AR\": 3017852,\n",
    "    \"CA\": 39512223,\"CO\": 5758736,\n",
    "    \"CT\": 3565287,\n",
    "    \"DE\": 973764,\"FL\": 21477737,\n",
    "    \"GA\": 10617423,\"HI\": 1415872,\n",
    "    \"ID\": 1787065,\"IL\": 12671821,\n",
    "    \"IN\": 6732219,\"IA\": 3155070,\n",
    "    \"KS\": 2913314,\"KY\": 4467673,\n",
    "    \"LA\": 4648794,\n",
    "    \"ME\": 1344212,\"MD\": 6045680,\n",
    "    \"MA\": 6949503,\"MI\": 9986857,\n",
    "    \"MN\": 5639632,\"MS\": 2976149,\n",
    "    \"MO\": 6137428,\"MT\": 1068778,\n",
    "    \"NE\": 1934408,\n",
    "    \"NV\": 3080156,\"NH\": 1359711,\n",
    "    \"NJ\": 8882190,\"NM\": 1096829,\n",
    "    \"NY\": 19453561,\"NC\": 10488084,\n",
    "    \"ND\": 762062,\"OH\": 11689100,\n",
    "    \"OK\": 3956971,\"OR\": 4217737,\n",
    "    \"PA\": 12801989,\"RI\": 1059361,\n",
    "    \"SC\": 5148714,\"SD\": 884659,\n",
    "    \"TN\": 6833174,\"TX\": 28995881,\n",
    "    \"UT\": 3205958,\n",
    "    \"VT\":623989,\"VA\": 8535519,\n",
    "    \"WA\": 8614893,\"WV\": 1792147,\n",
    "    \"WI\": 5822434,\n",
    "    \"WY\":578759,\"DC\":705749\n",
    "}"
   ]
  },
  {
   "cell_type": "code",
   "execution_count": 58,
   "metadata": {},
   "outputs": [],
   "source": [
    "US_cars = {\n",
    "    \"AL\": 2161212,\"AK\": 731545,\n",
    " \"AZ\": 2391772,\"AR\": 921161,\n",
    " \"CA\": 15065827,\"CO\": 1798177,\"CT\": 1306709,\n",
    " \"DE\": 433363,\"FL\": 7966091,\n",
    " \"GA\": 3557469,\"HI\": 509492,\n",
    " \"ID\": 598774,\"IL\": 4477763,\n",
    " \"IN\": 2248870,\"IA\": 1242219,\n",
    " \"KS\": 975171,\"KY\": 1721942,\"LA\": 1389249,\n",
    " \"ME\": 390506,\"MD\": 1922463,\n",
    " \"MA\": 2182530,\"MI\": 3023940,\n",
    " \"MN\": 1976525,\"MS\": 825338,\n",
    " \"MO\": 2102216,\"MT\": 452845,\"NE\": 683020,\n",
    " \"NV\": 1073760,\"NH\": 506959,\n",
    " \"NJ\": 2754253,\"NM\": 655766,\n",
    " \"NY\": 4712779,\"NC\": 3393781,\n",
    " \"ND\": 240048,\"OH\": 4603594,\n",
    " \"OK\": 1296218,\"OR\": 1488623,\n",
    " \"PA\": 4424183,\"RI\": 412255,\n",
    " \"SC\": 1830186,\"SD\": 358859,\n",
    " \"TN\": 2285329,\"TX\": 8248322,\"UT\": 937421,\n",
    " \"VT\":218302,\"VA\": 3267735,\n",
    " \"WA\": 2964939,\"WV\": 560118,\"WI\": 2087518,\n",
    " \"WY\":203546,\"DC\":209723\n",
    "}"
   ]
  },
  {
   "cell_type": "code",
   "execution_count": 65,
   "metadata": {},
   "outputs": [],
   "source": [
    "ind = []\n",
    "pop = []\n",
    "car = []\n",
    "for (key, item), (_, item2) in zip(US_pop.items(), US_cars.items()):\n",
    "    ind.append(key)\n",
    "    pop.append(item)\n",
    "    car.append(item2)\n",
    "\n",
    "pd.DataFrame({\"population\":num, \"car\":car}, index=ind).to_csv(\"./output.csv\")"
   ]
  },
  {
   "cell_type": "code",
   "execution_count": 33,
   "metadata": {},
   "outputs": [],
   "source": [
    "states = list(US_pop.keys())"
   ]
  },
  {
   "cell_type": "code",
   "execution_count": 34,
   "metadata": {},
   "outputs": [],
   "source": [
    "count_df = df.groupby(\"State\").count()[\"ID\"]"
   ]
  },
  {
   "cell_type": "code",
   "execution_count": 35,
   "metadata": {},
   "outputs": [],
   "source": [
    "count_df = pd.DataFrame(count_df)"
   ]
  },
  {
   "cell_type": "code",
   "execution_count": 36,
   "metadata": {},
   "outputs": [],
   "source": [
    "cars = []\n",
    "pop = []\n",
    "for ind in count_df.index:\n",
    "    cars.append(US_cars[ind])\n",
    "    pop.append(US_pop[ind])"
   ]
  },
  {
   "cell_type": "code",
   "execution_count": 37,
   "metadata": {},
   "outputs": [],
   "source": [
    "count_df[\"cars\"] = cars\n",
    "count_df[\"pop\"] = pop"
   ]
  },
  {
   "cell_type": "code",
   "execution_count": 38,
   "metadata": {},
   "outputs": [],
   "source": [
    "count_df[\"ratioByPop\"] = count_df[\"ID\"]/count_df[\"pop\"]\n",
    "count_df[\"ratioByCars\"] = count_df[\"ID\"]/count_df[\"cars\"]\n",
    "count_df[\"ratioPbyCars\"] = count_df[\"pop\"]/count_df[\"cars\"]"
   ]
  },
  {
   "cell_type": "code",
   "execution_count": 39,
   "metadata": {},
   "outputs": [
    {
     "data": {
      "text/html": [
       "<div>\n",
       "<style scoped>\n",
       "    .dataframe tbody tr th:only-of-type {\n",
       "        vertical-align: middle;\n",
       "    }\n",
       "\n",
       "    .dataframe tbody tr th {\n",
       "        vertical-align: top;\n",
       "    }\n",
       "\n",
       "    .dataframe thead th {\n",
       "        text-align: right;\n",
       "    }\n",
       "</style>\n",
       "<table border=\"1\" class=\"dataframe\">\n",
       "  <thead>\n",
       "    <tr style=\"text-align: right;\">\n",
       "      <th></th>\n",
       "      <th>ID</th>\n",
       "      <th>cars</th>\n",
       "      <th>pop</th>\n",
       "      <th>ratioByPop</th>\n",
       "      <th>ratioByCars</th>\n",
       "      <th>ratioPbyCars</th>\n",
       "    </tr>\n",
       "    <tr>\n",
       "      <th>State</th>\n",
       "      <th></th>\n",
       "      <th></th>\n",
       "      <th></th>\n",
       "      <th></th>\n",
       "      <th></th>\n",
       "      <th></th>\n",
       "    </tr>\n",
       "  </thead>\n",
       "  <tbody>\n",
       "    <tr>\n",
       "      <th>SC</th>\n",
       "      <td>173277</td>\n",
       "      <td>1830186</td>\n",
       "      <td>5148714</td>\n",
       "      <td>0.033654</td>\n",
       "      <td>0.094677</td>\n",
       "      <td>2.813219</td>\n",
       "    </tr>\n",
       "    <tr>\n",
       "      <th>OR</th>\n",
       "      <td>90122</td>\n",
       "      <td>1488623</td>\n",
       "      <td>4217737</td>\n",
       "      <td>0.021367</td>\n",
       "      <td>0.060541</td>\n",
       "      <td>2.833314</td>\n",
       "    </tr>\n",
       "    <tr>\n",
       "      <th>CA</th>\n",
       "      <td>816804</td>\n",
       "      <td>15065827</td>\n",
       "      <td>39512223</td>\n",
       "      <td>0.020672</td>\n",
       "      <td>0.054216</td>\n",
       "      <td>2.622639</td>\n",
       "    </tr>\n",
       "    <tr>\n",
       "      <th>UT</th>\n",
       "      <td>51684</td>\n",
       "      <td>937421</td>\n",
       "      <td>3205958</td>\n",
       "      <td>0.016121</td>\n",
       "      <td>0.055134</td>\n",
       "      <td>3.419977</td>\n",
       "    </tr>\n",
       "    <tr>\n",
       "      <th>NC</th>\n",
       "      <td>165955</td>\n",
       "      <td>3393781</td>\n",
       "      <td>10488084</td>\n",
       "      <td>0.015823</td>\n",
       "      <td>0.048900</td>\n",
       "      <td>3.090383</td>\n",
       "    </tr>\n",
       "    <tr>\n",
       "      <th>OK</th>\n",
       "      <td>60003</td>\n",
       "      <td>1296218</td>\n",
       "      <td>3956971</td>\n",
       "      <td>0.015164</td>\n",
       "      <td>0.046291</td>\n",
       "      <td>3.052705</td>\n",
       "    </tr>\n",
       "    <tr>\n",
       "      <th>MN</th>\n",
       "      <td>81863</td>\n",
       "      <td>1976525</td>\n",
       "      <td>5639632</td>\n",
       "      <td>0.014516</td>\n",
       "      <td>0.041418</td>\n",
       "      <td>2.853307</td>\n",
       "    </tr>\n",
       "    <tr>\n",
       "      <th>LA</th>\n",
       "      <td>61515</td>\n",
       "      <td>1389249</td>\n",
       "      <td>4648794</td>\n",
       "      <td>0.013232</td>\n",
       "      <td>0.044279</td>\n",
       "      <td>3.346264</td>\n",
       "    </tr>\n",
       "    <tr>\n",
       "      <th>NE</th>\n",
       "      <td>23970</td>\n",
       "      <td>683020</td>\n",
       "      <td>1934408</td>\n",
       "      <td>0.012391</td>\n",
       "      <td>0.035094</td>\n",
       "      <td>2.832140</td>\n",
       "    </tr>\n",
       "    <tr>\n",
       "      <th>FL</th>\n",
       "      <td>257974</td>\n",
       "      <td>7966091</td>\n",
       "      <td>21477737</td>\n",
       "      <td>0.012011</td>\n",
       "      <td>0.032384</td>\n",
       "      <td>2.696145</td>\n",
       "    </tr>\n",
       "  </tbody>\n",
       "</table>\n",
       "</div>"
      ],
      "text/plain": [
       "           ID      cars       pop  ratioByPop  ratioByCars  ratioPbyCars\n",
       "State                                                                   \n",
       "SC     173277   1830186   5148714    0.033654     0.094677      2.813219\n",
       "OR      90122   1488623   4217737    0.021367     0.060541      2.833314\n",
       "CA     816804  15065827  39512223    0.020672     0.054216      2.622639\n",
       "UT      51684    937421   3205958    0.016121     0.055134      3.419977\n",
       "NC     165955   3393781  10488084    0.015823     0.048900      3.090383\n",
       "OK      60003   1296218   3956971    0.015164     0.046291      3.052705\n",
       "MN      81863   1976525   5639632    0.014516     0.041418      2.853307\n",
       "LA      61515   1389249   4648794    0.013232     0.044279      3.346264\n",
       "NE      23970    683020   1934408    0.012391     0.035094      2.832140\n",
       "FL     257974   7966091  21477737    0.012011     0.032384      2.696145"
      ]
     },
     "execution_count": 39,
     "metadata": {},
     "output_type": "execute_result"
    }
   ],
   "source": [
    "count_df.sort_values(\"ratioByPop\", ascending=False).head(10)"
   ]
  },
  {
   "cell_type": "code",
   "execution_count": 56,
   "metadata": {},
   "outputs": [],
   "source": [
    "count_df.sort_values(\"ratioByPop\", ascending=False)[\"ratioByPop\"].iloc[:10].to_csv(\"./output.csv\")"
   ]
  },
  {
   "cell_type": "markdown",
   "metadata": {},
   "source": [
    "## Is highway?"
   ]
  },
  {
   "cell_type": "code",
   "execution_count": 75,
   "metadata": {},
   "outputs": [],
   "source": [
    "param = \"I-70 E\""
   ]
  },
  {
   "cell_type": "code",
   "execution_count": 76,
   "metadata": {},
   "outputs": [],
   "source": [
    "def is_highway(street):\n",
    "    s = street.split(\" \")\n",
    "    \n",
    "    if \"I-\" in s[0]:\n",
    "        return True\n",
    "    if \"Freeway\" in s[-1]:\n",
    "        return True\n",
    "    if \"US-\" in s[0]:\n",
    "        return True\n",
    "    if s[-1].isnumeric():\n",
    "        return True\n",
    "    if \"Highway\" in s:\n",
    "        return True\n",
    "    if \"Freeway\" in s:\n",
    "        return True\n",
    "    if \"Hwy\" in s:\n",
    "        return True\n",
    "    if \"Fwy\" in s:\n",
    "        return True\n",
    "    if \"Expy\" in s:\n",
    "        return True\n",
    "    \n",
    "    for st in states:\n",
    "        if \"{}-\".format(st) in s[0]:\n",
    "            return True\n",
    "    return False"
   ]
  },
  {
   "cell_type": "code",
   "execution_count": 77,
   "metadata": {},
   "outputs": [],
   "source": [
    "df[\"is_highway\"] = df[\"Street\"].apply(is_highway)"
   ]
  },
  {
   "cell_type": "code",
   "execution_count": 78,
   "metadata": {},
   "outputs": [],
   "source": [
    "df[\"Time_Elapsed\"] = (pd.to_datetime(df['End_Time'])-pd.to_datetime(df[\"Start_Time\"])).astype('timedelta64[m]')"
   ]
  },
  {
   "cell_type": "code",
   "execution_count": 83,
   "metadata": {},
   "outputs": [],
   "source": [
    "pd.DataFrame(df.groupby([\"region\", \"is_highway\"]).count()[\"ID\"]).to_csv(\"./output.csv\")"
   ]
  },
  {
   "cell_type": "code",
   "execution_count": 112,
   "metadata": {},
   "outputs": [
    {
     "data": {
      "text/plain": [
       "count    3.513502e+06\n",
       "mean     1.148481e+02\n",
       "std      3.380455e+03\n",
       "min     -3.500000e+01\n",
       "25%      2.900000e+01\n",
       "50%      4.400000e+01\n",
       "75%      7.400000e+01\n",
       "max      1.421955e+06\n",
       "Name: Time_Elapsed, dtype: float64"
      ]
     },
     "execution_count": 112,
     "metadata": {},
     "output_type": "execute_result"
    }
   ],
   "source": [
    "df[\"Time_Elapsed\"].describe()"
   ]
  },
  {
   "cell_type": "code",
   "execution_count": 64,
   "metadata": {},
   "outputs": [
    {
     "data": {
      "text/plain": [
       "is_highway\n",
       "False    1823363\n",
       "True     1690139\n",
       "Name: ID, dtype: int64"
      ]
     },
     "execution_count": 64,
     "metadata": {},
     "output_type": "execute_result"
    }
   ],
   "source": [
    "df.groupby(\"is_highway\").count()[\"ID\"]"
   ]
  },
  {
   "cell_type": "code",
   "execution_count": null,
   "metadata": {},
   "outputs": [],
   "source": [
    "df[\"Start_Time\"].cumsum()"
   ]
  },
  {
   "cell_type": "markdown",
   "metadata": {},
   "source": [
    "## Create Region"
   ]
  },
  {
   "cell_type": "code",
   "execution_count": 66,
   "metadata": {},
   "outputs": [],
   "source": [
    "US_region = {\n",
    "    \"northeast\": [\"CT\", \"ME\", \"MA\", \"NH\", \"RI\", \"VT\", \"NJ\", \"NY\", \"PA\"],\n",
    "    \"midwest\": [\"IL\", \"IN\", \"MI\", \"TN\", \"IA\", \"KS\", \"MN\", \"OH\", \"MO\", \"NE\", \"ND\", \"SD\", \"WI\"],\n",
    "    \"south\" : [\"DE\", \"FL\", \"GA\", \"MD\", \"NC\", \"SC\", \"VA\", \"DC\", \"WV\", \"AL\", \"KY\", \"MS\", \"TN\", \"AR\", \"LA\", \"OK\", \"TX\"],\n",
    "    \"west\" : [\"AZ\", \"CO\", \"ID\", \"MT\", \"NV\", \"NM\", \"UT\", \"WY\", \"AK\", \"CA\", \"HI\", \"OR\", \"WA\"]\n",
    "}"
   ]
  },
  {
   "cell_type": "code",
   "execution_count": 67,
   "metadata": {},
   "outputs": [],
   "source": [
    "def map_state(state):\n",
    "    for key, items in US_region.items():\n",
    "        if state in items:\n",
    "            return key"
   ]
  },
  {
   "cell_type": "code",
   "execution_count": 68,
   "metadata": {},
   "outputs": [
    {
     "data": {
      "text/plain": [
       "'midwest'"
      ]
     },
     "execution_count": 68,
     "metadata": {},
     "output_type": "execute_result"
    }
   ],
   "source": [
    "map_state(\"OH\")"
   ]
  },
  {
   "cell_type": "code",
   "execution_count": 69,
   "metadata": {},
   "outputs": [
    {
     "data": {
      "text/plain": [
       "'OH'"
      ]
     },
     "execution_count": 69,
     "metadata": {},
     "output_type": "execute_result"
    }
   ],
   "source": [
    "df[\"State\"].iloc[0]"
   ]
  },
  {
   "cell_type": "code",
   "execution_count": 70,
   "metadata": {},
   "outputs": [],
   "source": [
    "df[\"region\"] = df[\"State\"].apply(map_state)"
   ]
  },
  {
   "cell_type": "code",
   "execution_count": 71,
   "metadata": {},
   "outputs": [
    {
     "data": {
      "text/plain": [
       "0    midwest\n",
       "1    midwest\n",
       "2    midwest\n",
       "3    midwest\n",
       "4    midwest\n",
       "Name: region, dtype: object"
      ]
     },
     "execution_count": 71,
     "metadata": {},
     "output_type": "execute_result"
    }
   ],
   "source": [
    "df[\"region\"].head()"
   ]
  },
  {
   "cell_type": "code",
   "execution_count": 74,
   "metadata": {},
   "outputs": [],
   "source": [
    "pd.DataFrame(df.groupby([\"region\", \"Severity\"]).count()[\"ID\"]).to_csv(\"./output.csv\")"
   ]
  },
  {
   "cell_type": "code",
   "execution_count": 109,
   "metadata": {},
   "outputs": [
    {
     "data": {
      "text/plain": [
       "array(['midwest', 'south', 'west', 'northeast'], dtype=object)"
      ]
     },
     "execution_count": 109,
     "metadata": {},
     "output_type": "execute_result"
    }
   ],
   "source": [
    "df[\"region\"].unique()"
   ]
  },
  {
   "cell_type": "markdown",
   "metadata": {},
   "source": [
    "## Create trends of accident"
   ]
  },
  {
   "cell_type": "code",
   "execution_count": 193,
   "metadata": {},
   "outputs": [
    {
     "data": {
      "text/plain": [
       "(1601,)"
      ]
     },
     "execution_count": 193,
     "metadata": {},
     "output_type": "execute_result"
    }
   ],
   "source": [
    "df[\"Date\"].unique().shape"
   ]
  },
  {
   "cell_type": "code",
   "execution_count": 200,
   "metadata": {},
   "outputs": [],
   "source": [
    "df[\"Year\"] = df.apply(lambda x: x[\"Date\"].split(\"-\")[0], axis=1)\n",
    "# df[\"Month\"] = df.apply(lambda x: x[\"Date\"].split(\"-\")[1], axis=1)\n",
    "# df[\"Day\"] = df.apply(lambda x: x[\"Date\"].split(\"-\")[2], axis=1)"
   ]
  },
  {
   "cell_type": "code",
   "execution_count": 202,
   "metadata": {},
   "outputs": [
    {
     "data": {
      "text/html": [
       "<div>\n",
       "<style scoped>\n",
       "    .dataframe tbody tr th:only-of-type {\n",
       "        vertical-align: middle;\n",
       "    }\n",
       "\n",
       "    .dataframe tbody tr th {\n",
       "        vertical-align: top;\n",
       "    }\n",
       "\n",
       "    .dataframe thead th {\n",
       "        text-align: right;\n",
       "    }\n",
       "</style>\n",
       "<table border=\"1\" class=\"dataframe\">\n",
       "  <thead>\n",
       "    <tr style=\"text-align: right;\">\n",
       "      <th></th>\n",
       "      <th>Year</th>\n",
       "      <th>Month</th>\n",
       "      <th>Day</th>\n",
       "    </tr>\n",
       "  </thead>\n",
       "  <tbody>\n",
       "    <tr>\n",
       "      <th>0</th>\n",
       "      <td>2016</td>\n",
       "      <td>02</td>\n",
       "      <td>08</td>\n",
       "    </tr>\n",
       "    <tr>\n",
       "      <th>1</th>\n",
       "      <td>2016</td>\n",
       "      <td>02</td>\n",
       "      <td>08</td>\n",
       "    </tr>\n",
       "    <tr>\n",
       "      <th>2</th>\n",
       "      <td>2016</td>\n",
       "      <td>02</td>\n",
       "      <td>08</td>\n",
       "    </tr>\n",
       "    <tr>\n",
       "      <th>3</th>\n",
       "      <td>2016</td>\n",
       "      <td>02</td>\n",
       "      <td>08</td>\n",
       "    </tr>\n",
       "    <tr>\n",
       "      <th>4</th>\n",
       "      <td>2016</td>\n",
       "      <td>02</td>\n",
       "      <td>08</td>\n",
       "    </tr>\n",
       "  </tbody>\n",
       "</table>\n",
       "</div>"
      ],
      "text/plain": [
       "   Year Month Day\n",
       "0  2016    02  08\n",
       "1  2016    02  08\n",
       "2  2016    02  08\n",
       "3  2016    02  08\n",
       "4  2016    02  08"
      ]
     },
     "execution_count": 202,
     "metadata": {},
     "output_type": "execute_result"
    }
   ],
   "source": [
    "df[[\"Year\", \"Month\", \"Day\"]].head()"
   ]
  },
  {
   "cell_type": "code",
   "execution_count": 204,
   "metadata": {},
   "outputs": [
    {
     "data": {
      "text/plain": [
       "(539158, 48)"
      ]
     },
     "execution_count": 204,
     "metadata": {},
     "output_type": "execute_result"
    }
   ],
   "source": [
    "df[df[\"Year\"] == \"2020\"].shape"
   ]
  },
  {
   "cell_type": "code",
   "execution_count": null,
   "metadata": {},
   "outputs": [],
   "source": [
    "df[df[\"Year\"] == \"2020\"].cumsum()"
   ]
  },
  {
   "cell_type": "code",
   "execution_count": 13,
   "metadata": {},
   "outputs": [
    {
     "data": {
      "text/plain": [
       "Index(['ID', 'Source', 'TMC', 'Severity', 'Start_Time', 'End_Time',\n",
       "       'Start_Lat', 'Start_Lng', 'End_Lat', 'End_Lng', 'Distance(mi)',\n",
       "       'Description', 'Number', 'Street', 'Side', 'City', 'County', 'State',\n",
       "       'Zipcode', 'Country', 'Timezone', 'Airport_Code', 'Weather_Timestamp',\n",
       "       'Temperature(F)', 'Wind_Chill(F)', 'Humidity(%)', 'Pressure(in)',\n",
       "       'Visibility(mi)', 'Wind_Direction', 'Wind_Speed(mph)',\n",
       "       'Precipitation(in)', 'Weather_Condition', 'Amenity', 'Bump', 'Crossing',\n",
       "       'Give_Way', 'Junction', 'No_Exit', 'Railway', 'Roundabout', 'Station',\n",
       "       'Stop', 'Traffic_Calming', 'Traffic_Signal', 'Turning_Loop',\n",
       "       'Sunrise_Sunset', 'Civil_Twilight', 'Nautical_Twilight',\n",
       "       'Astronomical_Twilight'],\n",
       "      dtype='object')"
      ]
     },
     "execution_count": 13,
     "metadata": {},
     "output_type": "execute_result"
    }
   ],
   "source": [
    "cols"
   ]
  },
  {
   "cell_type": "code",
   "execution_count": null,
   "metadata": {},
   "outputs": [],
   "source": [
    "date"
   ]
  },
  {
   "cell_type": "markdown",
   "metadata": {},
   "source": [
    "Base Features:\n",
    "- ID\n",
    "- TMC\n",
    "\n",
    "Time&Location Related features:\n",
    "- Start_Time\n",
    "- End_Time\n",
    "- Start_Lat\n",
    "- Start_Lng\n",
    "\n",
    "Address related features:\n",
    "- Street\n",
    "- City\n",
    "- County\n",
    "- State\n",
    "- Zipcode\n",
    "\n",
    "Q: WHat's distance from and to?\n",
    "- Distance(mi)\n",
    "\n",
    "\n",
    "Weather related features:\n",
    "- Temperature(F)\n",
    "- Wind_Chill(F)\n",
    "- Humidity(%)\n",
    "- Pressure(in)\n",
    "- Visibility(mi)\n",
    "- Wind_Direction\n",
    "- Wind_Speed(mph)\n",
    "- Weather_Condition\n",
    "\n",
    "Road Related features:\n",
    "- Amenity\n",
    "- Bump\n",
    "- Crossing\n",
    "- Give_Way\n",
    "- Junction\n",
    "- No_Exit\n",
    "- Railway\n",
    "- Roundabout\n",
    "- Station\n",
    "- Stop\n",
    "- Traffic_Calming\n",
    "- Traffic_Signal\n",
    "\n",
    "Astronomical Features:\n",
    "- Sunrise_Sunset"
   ]
  },
  {
   "cell_type": "code",
   "execution_count": 66,
   "metadata": {},
   "outputs": [
    {
     "data": {
      "text/plain": [
       "Amenity\n",
       "False    3471423\n",
       "True       42079\n",
       "Name: ID, dtype: int64"
      ]
     },
     "execution_count": 66,
     "metadata": {},
     "output_type": "execute_result"
    }
   ],
   "source": [
    "df.groupby(\"Amenity\").count()[\"ID\"]"
   ]
  },
  {
   "cell_type": "code",
   "execution_count": 67,
   "metadata": {},
   "outputs": [
    {
     "data": {
      "text/plain": [
       "Station\n",
       "False    3443181\n",
       "True       70321\n",
       "Name: ID, dtype: int64"
      ]
     },
     "execution_count": 67,
     "metadata": {},
     "output_type": "execute_result"
    }
   ],
   "source": [
    "df.groupby(\"Station\").count()[\"ID\"]"
   ]
  },
  {
   "cell_type": "code",
   "execution_count": 65,
   "metadata": {},
   "outputs": [
    {
     "data": {
      "text/plain": [
       "Traffic_Calming\n",
       "False    3512101\n",
       "True        1401\n",
       "Name: ID, dtype: int64"
      ]
     },
     "execution_count": 65,
     "metadata": {},
     "output_type": "execute_result"
    }
   ],
   "source": [
    "df.groupby(\"Traffic_Calming\").count()[\"ID\"]"
   ]
  },
  {
   "cell_type": "code",
   "execution_count": 24,
   "metadata": {},
   "outputs": [
    {
     "data": {
      "text/plain": [
       "array(['Accident on OH-32 State Route 32 Westbound at Dela Palma Rd. Expect delays.',\n",
       "       'Accident on I-75 Southbound at Exits 52 52B US-35. Expect delays.',\n",
       "       'Accident on McEwen Rd at OH-725 Miamisburg Centerville Rd. Expect delays.',\n",
       "       'Accident on I-270 Outerbelt Northbound near Exit 29 OH-3 State St. Expect delays.',\n",
       "       'Accident on Oakridge Dr at Woodward Ave. Expect delays.',\n",
       "       'Accident on I-75 Southbound at Exit 54B Grand Ave. Expect delays.',\n",
       "       'Accident on Notre Dame Ave at Warner Ave. Expect delays.',\n",
       "       'Right hand shoulder blocked due to accident on I-270 Outerbelt Westbound at Exit 29 OH-3 State St.',\n",
       "       'Accident on I-270 Outerbelt Northbound at Exits 7 7A 7B US-40 Broad St. Expect delays.',\n",
       "       'One lane blocked due to accident on I-70 Westbound at Exits 110 110A 110B Brice Rd. Expect delays.',\n",
       "       'Accident on Revere Ave at Watervliet Ave. Expect delays.',\n",
       "       'Accident on Salem Ave at Hillcrest Ave / Kensington Dr. Expect delays.',\n",
       "       'Accident on OH-16 Broad St at James Rd. Expect delays.',\n",
       "       'Accident on Wayne Ave at Glencoe Ave. Expect delays.',\n",
       "       'Accident on James H McGee Blvd at US-35. Expect delays.',\n",
       "       'Accident on Delphos Ave at Brooklyn Ave. Expect delays.',\n",
       "       'Accident on Stewart St near Rubicon St. Expect delays.',\n",
       "       'Accident on Hillcrest Ave at Piccadilly Ave. Expect delays.'],\n",
       "      dtype=object)"
      ]
     },
     "execution_count": 24,
     "metadata": {},
     "output_type": "execute_result"
    }
   ],
   "source": [
    "df[\"Description\"].iloc[2:20].values"
   ]
  },
  {
   "cell_type": "code",
   "execution_count": 15,
   "metadata": {},
   "outputs": [
    {
     "data": {
      "text/plain": [
       "array([False,  True])"
      ]
     },
     "execution_count": 15,
     "metadata": {},
     "output_type": "execute_result"
    }
   ],
   "source": [
    "df[\"Give_Way\"].unique()"
   ]
  },
  {
   "cell_type": "code",
   "execution_count": 6,
   "metadata": {},
   "outputs": [
    {
     "data": {
      "text/plain": [
       "49"
      ]
     },
     "execution_count": 6,
     "metadata": {},
     "output_type": "execute_result"
    }
   ],
   "source": [
    "len(df.columns)"
   ]
  },
  {
   "cell_type": "code",
   "execution_count": 7,
   "metadata": {},
   "outputs": [
    {
     "data": {
      "text/html": [
       "<div>\n",
       "<style scoped>\n",
       "    .dataframe tbody tr th:only-of-type {\n",
       "        vertical-align: middle;\n",
       "    }\n",
       "\n",
       "    .dataframe tbody tr th {\n",
       "        vertical-align: top;\n",
       "    }\n",
       "\n",
       "    .dataframe thead th {\n",
       "        text-align: right;\n",
       "    }\n",
       "</style>\n",
       "<table border=\"1\" class=\"dataframe\">\n",
       "  <thead>\n",
       "    <tr style=\"text-align: right;\">\n",
       "      <th></th>\n",
       "      <th>TMC</th>\n",
       "      <th>Severity</th>\n",
       "      <th>Start_Lat</th>\n",
       "      <th>Start_Lng</th>\n",
       "      <th>End_Lat</th>\n",
       "      <th>End_Lng</th>\n",
       "      <th>Distance(mi)</th>\n",
       "      <th>Number</th>\n",
       "      <th>Temperature(F)</th>\n",
       "      <th>Wind_Chill(F)</th>\n",
       "      <th>Humidity(%)</th>\n",
       "      <th>Pressure(in)</th>\n",
       "      <th>Visibility(mi)</th>\n",
       "      <th>Wind_Speed(mph)</th>\n",
       "      <th>Precipitation(in)</th>\n",
       "    </tr>\n",
       "  </thead>\n",
       "  <tbody>\n",
       "    <tr>\n",
       "      <th>count</th>\n",
       "      <td>2.478818e+06</td>\n",
       "      <td>3.513617e+06</td>\n",
       "      <td>3.513617e+06</td>\n",
       "      <td>3.513617e+06</td>\n",
       "      <td>1.034799e+06</td>\n",
       "      <td>1.034799e+06</td>\n",
       "      <td>3.513617e+06</td>\n",
       "      <td>1.250753e+06</td>\n",
       "      <td>3.447885e+06</td>\n",
       "      <td>1.645368e+06</td>\n",
       "      <td>3.443930e+06</td>\n",
       "      <td>3.457735e+06</td>\n",
       "      <td>3.437761e+06</td>\n",
       "      <td>3.059008e+06</td>\n",
       "      <td>1.487743e+06</td>\n",
       "    </tr>\n",
       "    <tr>\n",
       "      <th>mean</th>\n",
       "      <td>2.080226e+02</td>\n",
       "      <td>2.339929e+00</td>\n",
       "      <td>3.654195e+01</td>\n",
       "      <td>-9.579151e+01</td>\n",
       "      <td>3.755758e+01</td>\n",
       "      <td>-1.004560e+02</td>\n",
       "      <td>2.816167e-01</td>\n",
       "      <td>5.975383e+03</td>\n",
       "      <td>6.193512e+01</td>\n",
       "      <td>5.355730e+01</td>\n",
       "      <td>6.511427e+01</td>\n",
       "      <td>2.974463e+01</td>\n",
       "      <td>9.122644e+00</td>\n",
       "      <td>8.219025e+00</td>\n",
       "      <td>1.598256e-02</td>\n",
       "    </tr>\n",
       "    <tr>\n",
       "      <th>std</th>\n",
       "      <td>2.076627e+01</td>\n",
       "      <td>5.521935e-01</td>\n",
       "      <td>4.883520e+00</td>\n",
       "      <td>1.736877e+01</td>\n",
       "      <td>4.861215e+00</td>\n",
       "      <td>1.852879e+01</td>\n",
       "      <td>1.550134e+00</td>\n",
       "      <td>1.496624e+04</td>\n",
       "      <td>1.862106e+01</td>\n",
       "      <td>2.377334e+01</td>\n",
       "      <td>2.275558e+01</td>\n",
       "      <td>8.319758e-01</td>\n",
       "      <td>2.885879e+00</td>\n",
       "      <td>5.262847e+00</td>\n",
       "      <td>1.928262e-01</td>\n",
       "    </tr>\n",
       "    <tr>\n",
       "      <th>min</th>\n",
       "      <td>2.000000e+02</td>\n",
       "      <td>1.000000e+00</td>\n",
       "      <td>2.455527e+01</td>\n",
       "      <td>-1.246238e+02</td>\n",
       "      <td>2.457011e+01</td>\n",
       "      <td>-1.244978e+02</td>\n",
       "      <td>0.000000e+00</td>\n",
       "      <td>0.000000e+00</td>\n",
       "      <td>-8.900000e+01</td>\n",
       "      <td>-8.900000e+01</td>\n",
       "      <td>1.000000e+00</td>\n",
       "      <td>0.000000e+00</td>\n",
       "      <td>0.000000e+00</td>\n",
       "      <td>0.000000e+00</td>\n",
       "      <td>0.000000e+00</td>\n",
       "    </tr>\n",
       "    <tr>\n",
       "      <th>25%</th>\n",
       "      <td>2.010000e+02</td>\n",
       "      <td>2.000000e+00</td>\n",
       "      <td>3.363784e+01</td>\n",
       "      <td>-1.174418e+02</td>\n",
       "      <td>3.399477e+01</td>\n",
       "      <td>-1.183440e+02</td>\n",
       "      <td>0.000000e+00</td>\n",
       "      <td>8.640000e+02</td>\n",
       "      <td>5.000000e+01</td>\n",
       "      <td>3.570000e+01</td>\n",
       "      <td>4.800000e+01</td>\n",
       "      <td>2.973000e+01</td>\n",
       "      <td>1.000000e+01</td>\n",
       "      <td>5.000000e+00</td>\n",
       "      <td>0.000000e+00</td>\n",
       "    </tr>\n",
       "    <tr>\n",
       "      <th>50%</th>\n",
       "      <td>2.010000e+02</td>\n",
       "      <td>2.000000e+00</td>\n",
       "      <td>3.591687e+01</td>\n",
       "      <td>-9.102601e+01</td>\n",
       "      <td>3.779736e+01</td>\n",
       "      <td>-9.703438e+01</td>\n",
       "      <td>0.000000e+00</td>\n",
       "      <td>2.798000e+03</td>\n",
       "      <td>6.400000e+01</td>\n",
       "      <td>5.700000e+01</td>\n",
       "      <td>6.700000e+01</td>\n",
       "      <td>2.995000e+01</td>\n",
       "      <td>1.000000e+01</td>\n",
       "      <td>7.000000e+00</td>\n",
       "      <td>0.000000e+00</td>\n",
       "    </tr>\n",
       "    <tr>\n",
       "      <th>75%</th>\n",
       "      <td>2.010000e+02</td>\n",
       "      <td>3.000000e+00</td>\n",
       "      <td>4.032217e+01</td>\n",
       "      <td>-8.093299e+01</td>\n",
       "      <td>4.105139e+01</td>\n",
       "      <td>-8.210168e+01</td>\n",
       "      <td>1.000000e-02</td>\n",
       "      <td>7.098000e+03</td>\n",
       "      <td>7.590000e+01</td>\n",
       "      <td>7.200000e+01</td>\n",
       "      <td>8.400000e+01</td>\n",
       "      <td>3.009000e+01</td>\n",
       "      <td>1.000000e+01</td>\n",
       "      <td>1.150000e+01</td>\n",
       "      <td>0.000000e+00</td>\n",
       "    </tr>\n",
       "    <tr>\n",
       "      <th>max</th>\n",
       "      <td>4.060000e+02</td>\n",
       "      <td>4.000000e+00</td>\n",
       "      <td>4.900220e+01</td>\n",
       "      <td>-6.711317e+01</td>\n",
       "      <td>4.907500e+01</td>\n",
       "      <td>-6.710924e+01</td>\n",
       "      <td>3.336300e+02</td>\n",
       "      <td>9.999997e+06</td>\n",
       "      <td>1.706000e+02</td>\n",
       "      <td>1.150000e+02</td>\n",
       "      <td>1.000000e+02</td>\n",
       "      <td>5.774000e+01</td>\n",
       "      <td>1.400000e+02</td>\n",
       "      <td>9.840000e+02</td>\n",
       "      <td>2.500000e+01</td>\n",
       "    </tr>\n",
       "  </tbody>\n",
       "</table>\n",
       "</div>"
      ],
      "text/plain": [
       "                TMC      Severity     Start_Lat     Start_Lng       End_Lat  \\\n",
       "count  2.478818e+06  3.513617e+06  3.513617e+06  3.513617e+06  1.034799e+06   \n",
       "mean   2.080226e+02  2.339929e+00  3.654195e+01 -9.579151e+01  3.755758e+01   \n",
       "std    2.076627e+01  5.521935e-01  4.883520e+00  1.736877e+01  4.861215e+00   \n",
       "min    2.000000e+02  1.000000e+00  2.455527e+01 -1.246238e+02  2.457011e+01   \n",
       "25%    2.010000e+02  2.000000e+00  3.363784e+01 -1.174418e+02  3.399477e+01   \n",
       "50%    2.010000e+02  2.000000e+00  3.591687e+01 -9.102601e+01  3.779736e+01   \n",
       "75%    2.010000e+02  3.000000e+00  4.032217e+01 -8.093299e+01  4.105139e+01   \n",
       "max    4.060000e+02  4.000000e+00  4.900220e+01 -6.711317e+01  4.907500e+01   \n",
       "\n",
       "            End_Lng  Distance(mi)        Number  Temperature(F)  \\\n",
       "count  1.034799e+06  3.513617e+06  1.250753e+06    3.447885e+06   \n",
       "mean  -1.004560e+02  2.816167e-01  5.975383e+03    6.193512e+01   \n",
       "std    1.852879e+01  1.550134e+00  1.496624e+04    1.862106e+01   \n",
       "min   -1.244978e+02  0.000000e+00  0.000000e+00   -8.900000e+01   \n",
       "25%   -1.183440e+02  0.000000e+00  8.640000e+02    5.000000e+01   \n",
       "50%   -9.703438e+01  0.000000e+00  2.798000e+03    6.400000e+01   \n",
       "75%   -8.210168e+01  1.000000e-02  7.098000e+03    7.590000e+01   \n",
       "max   -6.710924e+01  3.336300e+02  9.999997e+06    1.706000e+02   \n",
       "\n",
       "       Wind_Chill(F)   Humidity(%)  Pressure(in)  Visibility(mi)  \\\n",
       "count   1.645368e+06  3.443930e+06  3.457735e+06    3.437761e+06   \n",
       "mean    5.355730e+01  6.511427e+01  2.974463e+01    9.122644e+00   \n",
       "std     2.377334e+01  2.275558e+01  8.319758e-01    2.885879e+00   \n",
       "min    -8.900000e+01  1.000000e+00  0.000000e+00    0.000000e+00   \n",
       "25%     3.570000e+01  4.800000e+01  2.973000e+01    1.000000e+01   \n",
       "50%     5.700000e+01  6.700000e+01  2.995000e+01    1.000000e+01   \n",
       "75%     7.200000e+01  8.400000e+01  3.009000e+01    1.000000e+01   \n",
       "max     1.150000e+02  1.000000e+02  5.774000e+01    1.400000e+02   \n",
       "\n",
       "       Wind_Speed(mph)  Precipitation(in)  \n",
       "count     3.059008e+06       1.487743e+06  \n",
       "mean      8.219025e+00       1.598256e-02  \n",
       "std       5.262847e+00       1.928262e-01  \n",
       "min       0.000000e+00       0.000000e+00  \n",
       "25%       5.000000e+00       0.000000e+00  \n",
       "50%       7.000000e+00       0.000000e+00  \n",
       "75%       1.150000e+01       0.000000e+00  \n",
       "max       9.840000e+02       2.500000e+01  "
      ]
     },
     "execution_count": 7,
     "metadata": {},
     "output_type": "execute_result"
    }
   ],
   "source": [
    "df.describe()"
   ]
  },
  {
   "cell_type": "code",
   "execution_count": 8,
   "metadata": {},
   "outputs": [
    {
     "data": {
      "text/html": [
       "<div>\n",
       "<style scoped>\n",
       "    .dataframe tbody tr th:only-of-type {\n",
       "        vertical-align: middle;\n",
       "    }\n",
       "\n",
       "    .dataframe tbody tr th {\n",
       "        vertical-align: top;\n",
       "    }\n",
       "\n",
       "    .dataframe thead th {\n",
       "        text-align: right;\n",
       "    }\n",
       "</style>\n",
       "<table border=\"1\" class=\"dataframe\">\n",
       "  <thead>\n",
       "    <tr style=\"text-align: right;\">\n",
       "      <th></th>\n",
       "      <th>ID</th>\n",
       "      <th>Source</th>\n",
       "      <th>TMC</th>\n",
       "      <th>Severity</th>\n",
       "      <th>Start_Time</th>\n",
       "      <th>End_Time</th>\n",
       "      <th>Start_Lat</th>\n",
       "      <th>Start_Lng</th>\n",
       "      <th>End_Lat</th>\n",
       "      <th>End_Lng</th>\n",
       "      <th>...</th>\n",
       "      <th>Roundabout</th>\n",
       "      <th>Station</th>\n",
       "      <th>Stop</th>\n",
       "      <th>Traffic_Calming</th>\n",
       "      <th>Traffic_Signal</th>\n",
       "      <th>Turning_Loop</th>\n",
       "      <th>Sunrise_Sunset</th>\n",
       "      <th>Civil_Twilight</th>\n",
       "      <th>Nautical_Twilight</th>\n",
       "      <th>Astronomical_Twilight</th>\n",
       "    </tr>\n",
       "  </thead>\n",
       "  <tbody>\n",
       "    <tr>\n",
       "      <th>0</th>\n",
       "      <td>A-1</td>\n",
       "      <td>MapQuest</td>\n",
       "      <td>201.0</td>\n",
       "      <td>3</td>\n",
       "      <td>2016-02-08 05:46:00</td>\n",
       "      <td>2016-02-08 11:00:00</td>\n",
       "      <td>39.865147</td>\n",
       "      <td>-84.058723</td>\n",
       "      <td>NaN</td>\n",
       "      <td>NaN</td>\n",
       "      <td>...</td>\n",
       "      <td>False</td>\n",
       "      <td>False</td>\n",
       "      <td>False</td>\n",
       "      <td>False</td>\n",
       "      <td>False</td>\n",
       "      <td>False</td>\n",
       "      <td>Night</td>\n",
       "      <td>Night</td>\n",
       "      <td>Night</td>\n",
       "      <td>Night</td>\n",
       "    </tr>\n",
       "    <tr>\n",
       "      <th>1</th>\n",
       "      <td>A-2</td>\n",
       "      <td>MapQuest</td>\n",
       "      <td>201.0</td>\n",
       "      <td>2</td>\n",
       "      <td>2016-02-08 06:07:59</td>\n",
       "      <td>2016-02-08 06:37:59</td>\n",
       "      <td>39.928059</td>\n",
       "      <td>-82.831184</td>\n",
       "      <td>NaN</td>\n",
       "      <td>NaN</td>\n",
       "      <td>...</td>\n",
       "      <td>False</td>\n",
       "      <td>False</td>\n",
       "      <td>False</td>\n",
       "      <td>False</td>\n",
       "      <td>False</td>\n",
       "      <td>False</td>\n",
       "      <td>Night</td>\n",
       "      <td>Night</td>\n",
       "      <td>Night</td>\n",
       "      <td>Day</td>\n",
       "    </tr>\n",
       "    <tr>\n",
       "      <th>2</th>\n",
       "      <td>A-3</td>\n",
       "      <td>MapQuest</td>\n",
       "      <td>201.0</td>\n",
       "      <td>2</td>\n",
       "      <td>2016-02-08 06:49:27</td>\n",
       "      <td>2016-02-08 07:19:27</td>\n",
       "      <td>39.063148</td>\n",
       "      <td>-84.032608</td>\n",
       "      <td>NaN</td>\n",
       "      <td>NaN</td>\n",
       "      <td>...</td>\n",
       "      <td>False</td>\n",
       "      <td>False</td>\n",
       "      <td>False</td>\n",
       "      <td>False</td>\n",
       "      <td>True</td>\n",
       "      <td>False</td>\n",
       "      <td>Night</td>\n",
       "      <td>Night</td>\n",
       "      <td>Day</td>\n",
       "      <td>Day</td>\n",
       "    </tr>\n",
       "    <tr>\n",
       "      <th>3</th>\n",
       "      <td>A-4</td>\n",
       "      <td>MapQuest</td>\n",
       "      <td>201.0</td>\n",
       "      <td>3</td>\n",
       "      <td>2016-02-08 07:23:34</td>\n",
       "      <td>2016-02-08 07:53:34</td>\n",
       "      <td>39.747753</td>\n",
       "      <td>-84.205582</td>\n",
       "      <td>NaN</td>\n",
       "      <td>NaN</td>\n",
       "      <td>...</td>\n",
       "      <td>False</td>\n",
       "      <td>False</td>\n",
       "      <td>False</td>\n",
       "      <td>False</td>\n",
       "      <td>False</td>\n",
       "      <td>False</td>\n",
       "      <td>Night</td>\n",
       "      <td>Day</td>\n",
       "      <td>Day</td>\n",
       "      <td>Day</td>\n",
       "    </tr>\n",
       "    <tr>\n",
       "      <th>4</th>\n",
       "      <td>A-5</td>\n",
       "      <td>MapQuest</td>\n",
       "      <td>201.0</td>\n",
       "      <td>2</td>\n",
       "      <td>2016-02-08 07:39:07</td>\n",
       "      <td>2016-02-08 08:09:07</td>\n",
       "      <td>39.627781</td>\n",
       "      <td>-84.188354</td>\n",
       "      <td>NaN</td>\n",
       "      <td>NaN</td>\n",
       "      <td>...</td>\n",
       "      <td>False</td>\n",
       "      <td>False</td>\n",
       "      <td>False</td>\n",
       "      <td>False</td>\n",
       "      <td>True</td>\n",
       "      <td>False</td>\n",
       "      <td>Day</td>\n",
       "      <td>Day</td>\n",
       "      <td>Day</td>\n",
       "      <td>Day</td>\n",
       "    </tr>\n",
       "  </tbody>\n",
       "</table>\n",
       "<p>5 rows × 49 columns</p>\n",
       "</div>"
      ],
      "text/plain": [
       "    ID    Source    TMC  Severity           Start_Time             End_Time  \\\n",
       "0  A-1  MapQuest  201.0         3  2016-02-08 05:46:00  2016-02-08 11:00:00   \n",
       "1  A-2  MapQuest  201.0         2  2016-02-08 06:07:59  2016-02-08 06:37:59   \n",
       "2  A-3  MapQuest  201.0         2  2016-02-08 06:49:27  2016-02-08 07:19:27   \n",
       "3  A-4  MapQuest  201.0         3  2016-02-08 07:23:34  2016-02-08 07:53:34   \n",
       "4  A-5  MapQuest  201.0         2  2016-02-08 07:39:07  2016-02-08 08:09:07   \n",
       "\n",
       "   Start_Lat  Start_Lng  End_Lat  End_Lng          ...           Roundabout  \\\n",
       "0  39.865147 -84.058723      NaN      NaN          ...                False   \n",
       "1  39.928059 -82.831184      NaN      NaN          ...                False   \n",
       "2  39.063148 -84.032608      NaN      NaN          ...                False   \n",
       "3  39.747753 -84.205582      NaN      NaN          ...                False   \n",
       "4  39.627781 -84.188354      NaN      NaN          ...                False   \n",
       "\n",
       "  Station   Stop Traffic_Calming Traffic_Signal Turning_Loop Sunrise_Sunset  \\\n",
       "0   False  False           False          False        False          Night   \n",
       "1   False  False           False          False        False          Night   \n",
       "2   False  False           False           True        False          Night   \n",
       "3   False  False           False          False        False          Night   \n",
       "4   False  False           False           True        False            Day   \n",
       "\n",
       "  Civil_Twilight Nautical_Twilight Astronomical_Twilight  \n",
       "0          Night             Night                 Night  \n",
       "1          Night             Night                   Day  \n",
       "2          Night               Day                   Day  \n",
       "3            Day               Day                   Day  \n",
       "4            Day               Day                   Day  \n",
       "\n",
       "[5 rows x 49 columns]"
      ]
     },
     "execution_count": 8,
     "metadata": {},
     "output_type": "execute_result"
    }
   ],
   "source": [
    "df.head()"
   ]
  },
  {
   "cell_type": "code",
   "execution_count": 11,
   "metadata": {},
   "outputs": [
    {
     "data": {
      "text/plain": [
       "(1113407,)"
      ]
     },
     "execution_count": 11,
     "metadata": {},
     "output_type": "execute_result"
    }
   ],
   "source": [
    "df[\"Start_Lng\"].unique().shape"
   ]
  },
  {
   "cell_type": "code",
   "execution_count": null,
   "metadata": {},
   "outputs": [],
   "source": []
  }
 ],
 "metadata": {
  "kernelspec": {
   "display_name": "Python 3",
   "language": "python",
   "name": "python3"
  },
  "language_info": {
   "codemirror_mode": {
    "name": "ipython",
    "version": 3
   },
   "file_extension": ".py",
   "mimetype": "text/x-python",
   "name": "python",
   "nbconvert_exporter": "python",
   "pygments_lexer": "ipython3",
   "version": "3.6.6"
  }
 },
 "nbformat": 4,
 "nbformat_minor": 4
}
